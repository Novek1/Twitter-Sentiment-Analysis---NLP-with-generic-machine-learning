{
 "cells": [
  {
   "cell_type": "markdown",
   "id": "0f97d645",
   "metadata": {},
   "source": [
    "## Data cleaning and Explorative Analysis\n",
    "\n",
    "This part of the development process involves the use of cleaning commands from Pandas and general python programming. One would need to check for any blank or null data entries in the data set "
   ]
  },
  {
   "cell_type": "code",
   "execution_count": 24,
   "id": "0398c406",
   "metadata": {},
   "outputs": [],
   "source": [
    "import pandas as pd \n",
    "import numpy as np \n",
    "import seaborn as sns \n",
    "import matplotlib.pyplot as plt \n"
   ]
  },
  {
   "cell_type": "code",
   "execution_count": 25,
   "id": "77f93de3",
   "metadata": {},
   "outputs": [],
   "source": [
    "df= pd.read_csv('/workspaces/Twitter-Sentiment-Analysis---NLP-with-generic-machine-learning/twitter_training.csv')"
   ]
  },
  {
   "cell_type": "code",
   "execution_count": 26,
   "id": "fcafb243",
   "metadata": {},
   "outputs": [
    {
     "data": {
      "application/vnd.microsoft.datawrangler.viewer.v0+json": {
       "columns": [
        {
         "name": "index",
         "rawType": "int64",
         "type": "integer"
        },
        {
         "name": "2401",
         "rawType": "int64",
         "type": "integer"
        },
        {
         "name": "Borderlands",
         "rawType": "object",
         "type": "string"
        },
        {
         "name": "Positive",
         "rawType": "object",
         "type": "string"
        },
        {
         "name": "im getting on borderlands and i will murder you all ,",
         "rawType": "object",
         "type": "unknown"
        }
       ],
       "ref": "2208c710-fc5a-4046-ac9a-36036e18a0fe",
       "rows": [
        [
         "0",
         "2401",
         "Borderlands",
         "Positive",
         "I am coming to the borders and I will kill you all,"
        ],
        [
         "1",
         "2401",
         "Borderlands",
         "Positive",
         "im getting on borderlands and i will kill you all,"
        ],
        [
         "2",
         "2401",
         "Borderlands",
         "Positive",
         "im coming on borderlands and i will murder you all,"
        ],
        [
         "3",
         "2401",
         "Borderlands",
         "Positive",
         "im getting on borderlands 2 and i will murder you me all,"
        ],
        [
         "4",
         "2401",
         "Borderlands",
         "Positive",
         "im getting into borderlands and i can murder you all,"
        ],
        [
         "5",
         "2402",
         "Borderlands",
         "Positive",
         "So I spent a few hours making something for fun. . . If you don't know I am a HUGE @Borderlands fan and Maya is one of my favorite characters. So I decided to make myself a wallpaper for my PC. . Here is the original image versus the creation I made :) Enjoy! pic.twitter.com/mLsI5wf9Jg"
        ],
        [
         "6",
         "2402",
         "Borderlands",
         "Positive",
         "So I spent a couple of hours doing something for fun... If you don't know that I'm a huge @ Borderlands fan and Maya is one of my favorite characters, I decided to make a wallpaper for my PC.. Here's the original picture compared to the creation I made:) Have fun! pic.twitter.com / mLsI5wf9Jg"
        ],
        [
         "7",
         "2402",
         "Borderlands",
         "Positive",
         "So I spent a few hours doing something for fun... If you don't know I'm a HUGE @ Borderlands fan and Maya is one of my favorite characters."
        ],
        [
         "8",
         "2402",
         "Borderlands",
         "Positive",
         "So I spent a few hours making something for fun. . . If you don't know I am a HUGE RhandlerR fan and Maya is one of my favorite characters. So I decided to make myself a wallpaper for my PC. . Here is the original image versus the creation I made :) Enjoy! pic.twitter.com/mLsI5wf9Jg"
        ],
        [
         "9",
         "2402",
         "Borderlands",
         "Positive",
         "2010 So I spent a few hours making something for fun. . . If you don't know I am a HUGE RhandlerR fan and Maya is one of my favorite characters. So I decided to make myself a wallpaper for my PC. . Here is the original image versus the creation I made :) Enjoy! pic.twitter.com/mLsI5wf9Jg"
        ],
        [
         "10",
         "2402",
         "Borderlands",
         "Positive",
         "was"
        ],
        [
         "11",
         "2403",
         "Borderlands",
         "Neutral",
         "Rock-Hard La Varlope, RARE & POWERFUL, HANDSOME JACKPOT, Borderlands 3 (Xbox) dlvr.it/RMTrgF  "
        ],
        [
         "12",
         "2403",
         "Borderlands",
         "Neutral",
         "Rock-Hard La Varlope, RARE & POWERFUL, HANDSOME JACKPOT, Borderlands 3 (Xbox) dlvr.it / RMTrgF"
        ],
        [
         "13",
         "2403",
         "Borderlands",
         "Neutral",
         "Rock-Hard La Varlope, RARE & POWERFUL, HANDSOME JACKPOT, Borderlands 3 (Xbox) dfr.it / RMTrgF"
        ],
        [
         "14",
         "2403",
         "Borderlands",
         "Neutral",
         "Rock-Hard La Vita, RARE BUT POWERFUL, HANDSOME JACKPOT, Borderlands 1 (Xbox) dlvr.it/RMTrgF"
        ],
        [
         "15",
         "2403",
         "Borderlands",
         "Neutral",
         "Live Rock - Hard music La la Varlope, RARE & the POWERFUL, Live HANDSOME i JACKPOT, Borderlands 3 ( Sega Xbox ) dlvr. From it / e RMTrgF"
        ],
        [
         "16",
         "2403",
         "Borderlands",
         "Neutral",
         "I-Hard like me, RARE LONDON DE, HANDSOME 2011, Borderlands 3 (Xbox) dlvr.it/RMTrgF"
        ],
        [
         "17",
         "2404",
         "Borderlands",
         "Positive",
         "that was the first borderlands session in a long time where i actually had a really satisfying combat experience. i got some really good kills"
        ],
        [
         "18",
         "2404",
         "Borderlands",
         "Positive",
         "this was the first Borderlands session in a long time where i actually had a really satisfying fighting experience. i got some really good kills"
        ],
        [
         "19",
         "2404",
         "Borderlands",
         "Positive",
         "that was the first borderlands session in a long time where i actually had a really satisfying combat experience. i got some really good kills"
        ],
        [
         "20",
         "2404",
         "Borderlands",
         "Positive",
         "that was the first borderlands session in a long time where i actually enjoyed a really satisfying combat experience. i got some rather good kills"
        ],
        [
         "21",
         "2404",
         "Borderlands",
         "Positive",
         "that I was the first real borderlands session in a nice long wait time where i actually had a really satisfying combat experience. and i got some really good kills"
        ],
        [
         "22",
         "2404",
         "Borderlands",
         "Positive",
         "that was the first borderlands session in a hot row where i actually had a really bad combat experience. i did some really good kills"
        ],
        [
         "23",
         "2405",
         "Borderlands",
         "Negative",
         "the biggest dissappoinment in my life came out a year ago fuck borderlands 3"
        ],
        [
         "24",
         "2405",
         "Borderlands",
         "Negative",
         "The biggest disappointment of my life came a year ago."
        ],
        [
         "25",
         "2405",
         "Borderlands",
         "Negative",
         "The biggest disappointment of my life came a year ago."
        ],
        [
         "26",
         "2405",
         "Borderlands",
         "Negative",
         "the biggest dissappoinment in my life coming out a year ago fuck borderlands 3"
        ],
        [
         "27",
         "2405",
         "Borderlands",
         "Negative",
         "For the biggest male dissappoinment in my life came hanging out a year time ago fuck borderlands 3"
        ],
        [
         "28",
         "2405",
         "Borderlands",
         "Negative",
         "the biggest dissappoinment in my life came back last year ago fuck borderlands last"
        ],
        [
         "29",
         "2406",
         "Borderlands",
         "Positive",
         "WE FINISHED BORDERLANDS 3 FINALLY YAS! Thank you for hanging out everyone! It was fun. I will try to stream tomorrow but if not I might so some IRL streams while awayu. We shall see. Thank you so much for the raids @mompou_mumpow @MegaMagwitch and @KfdMitch."
        ],
        [
         "30",
         "2406",
         "Borderlands",
         "Positive",
         "WE FINALLY FINALLY FIND BORDERLANDS 3 YES! Thank you all for hanging out! It was fun. I'll try to stream tomorrow, but if not, maybe some IRL streams. We'll see. Thanks for the raids @ mompou _ mumpow @ MegaMagwitch and @ KfdMitch."
        ],
        [
         "31",
         "2406",
         "Borderlands",
         "Positive",
         "Thank you for hanging up everyone! It was fun. I'll try to get a haircut tomorrow, but if it wasn't for me, some IRL streams would still be in Hawaii. We'll see. Thank you so much for the @ mompou _ mumpow @ MegaMagwife and @ fendMitch raids."
        ],
        [
         "32",
         "2406",
         "Borderlands",
         "Positive",
         "WE FINISHED BORDERLANDS 3 UPDATE YAS! Thank you for hanging out guys! It was fun. I will try to stream and even if not I might so some IRL streams while awayu. We shall go. Thank you so much for the raids @mompou_mumpow @MegaMagwitch and Hope."
        ],
        [
         "33",
         "2406",
         "Borderlands",
         "Positive",
         "WE FINISHED BORDERLANDS 3 AND FINALLY YAS! Thank you everyone for hanging out everyone! It was fun. I will try to make stream tomorrow but if not I might make so some IRL streams while awayu. 10 We never shall see. Thank you both so... much for the raids @mompou_mumpow or @MegaMagwitch and 4 @KfdMitch."
        ],
        [
         "34",
         "2406",
         "Borderlands",
         "Positive",
         "WE FINISHED BORDERLANDS 3 FINALLY YAS! Hey you for hanging out so! It was fun. I will try that stream tomorrow and if not I might use some IRL streams from awayu. We shall see. Thank you so much how many raids @mompou_mumpow did and their."
        ],
        [
         "35",
         "2407",
         "Borderlands",
         "Negative",
         "Man Gearbox really needs to fix this dissapointing drops in the new Borderlands 3 DLC cant be fine to farm bosses on Mayhem 10 to get 1 legendary drop while anywhere else i get 6-10 drops. . Really sucks alot"
        ],
        [
         "36",
         "2407",
         "Borderlands",
         "Negative",
         "Man Gearbox really needs to fix these disappointing drops in the new Borderlands 3 DLC for farm bosses on Mayhem 10 to get a legendary drop, while I get 6-10 drops elsewhere."
        ],
        [
         "37",
         "2407",
         "Borderlands",
         "Negative",
         "Man Gearbox really needs to fix this disssapointing drops in the new Borderlands 3 DLC cant be fine to farm bosses on Mayhem 10 to get 1 legendary drop while elsewhere i get 6-10 drops... Really sucks alot"
        ],
        [
         "38",
         "2407",
         "Borderlands",
         "Negative",
         "Man Bethesda really needs to fix this dissapointing drops and the new Borderlands 3 It cant be fine to farm bosses on Mayhem 10 to get 1 legendary drop while anywhere else i get 6-10 drops.. Really sucks..."
        ],
        [
         "39",
         "2407",
         "Borderlands",
         "Negative",
         "Man Gearbox really needs to fix this dissapointing drops in the completely new Borderlands 3 Days DLC i cant e be fine having to be farm bosses on Mayhem 10 to e get 1 legendary foot drop while anywhere else i get 6 - 10 drops.. It Really sucks to alot"
        ],
        [
         "40",
         "2407",
         "Borderlands",
         "Negative",
         "<unk> Gearbox really time to fix this 10 drops in the new Borderlands 3 DLC or be fine to force bosses on Mayhem 10 to get a legendary drop while everyone else i get 6-10 drops.. Really needs alot"
        ],
        [
         "41",
         "2408",
         "Borderlands",
         "Neutral",
         "Check out this epic streamer!.  "
        ],
        [
         "42",
         "2408",
         "Borderlands",
         "Neutral",
         "Check out this epic streamer!."
        ],
        [
         "43",
         "2408",
         "Borderlands",
         "Neutral",
         "Watch this epic striptease!."
        ],
        [
         "44",
         "2408",
         "Borderlands",
         "Neutral",
         "Check out our epic streamer!."
        ],
        [
         "45",
         "2408",
         "Borderlands",
         "Neutral",
         "Check out this big epic streamer!."
        ],
        [
         "46",
         "2408",
         "Borderlands",
         "Neutral",
         "Check<unk> this epic streamer!."
        ],
        [
         "47",
         "2409",
         "Borderlands",
         "Neutral",
         "Blaming Sight for Tardiness! A little bit of borderlands. I got called in early for work tomorrow so I can't make up time. Sorry my loves .  twitch.tv/punnisenpai"
        ],
        [
         "48",
         "2409",
         "Borderlands",
         "Neutral",
         "A bit of borderland. I was called to work tomorrow morning, so I can't catch up. Sorry, my love. twitch.tv / punnisenpai"
        ],
        [
         "49",
         "2409",
         "Borderlands",
         "Neutral",
         "Guilty of sobriety! A bit of a borderline. I was called to work early tomorrow, so I can't catch up."
        ]
       ],
       "shape": {
        "columns": 4,
        "rows": 74681
       }
      },
      "text/html": [
       "<div>\n",
       "<style scoped>\n",
       "    .dataframe tbody tr th:only-of-type {\n",
       "        vertical-align: middle;\n",
       "    }\n",
       "\n",
       "    .dataframe tbody tr th {\n",
       "        vertical-align: top;\n",
       "    }\n",
       "\n",
       "    .dataframe thead th {\n",
       "        text-align: right;\n",
       "    }\n",
       "</style>\n",
       "<table border=\"1\" class=\"dataframe\">\n",
       "  <thead>\n",
       "    <tr style=\"text-align: right;\">\n",
       "      <th></th>\n",
       "      <th>2401</th>\n",
       "      <th>Borderlands</th>\n",
       "      <th>Positive</th>\n",
       "      <th>im getting on borderlands and i will murder you all ,</th>\n",
       "    </tr>\n",
       "  </thead>\n",
       "  <tbody>\n",
       "    <tr>\n",
       "      <th>0</th>\n",
       "      <td>2401</td>\n",
       "      <td>Borderlands</td>\n",
       "      <td>Positive</td>\n",
       "      <td>I am coming to the borders and I will kill you...</td>\n",
       "    </tr>\n",
       "    <tr>\n",
       "      <th>1</th>\n",
       "      <td>2401</td>\n",
       "      <td>Borderlands</td>\n",
       "      <td>Positive</td>\n",
       "      <td>im getting on borderlands and i will kill you ...</td>\n",
       "    </tr>\n",
       "    <tr>\n",
       "      <th>2</th>\n",
       "      <td>2401</td>\n",
       "      <td>Borderlands</td>\n",
       "      <td>Positive</td>\n",
       "      <td>im coming on borderlands and i will murder you...</td>\n",
       "    </tr>\n",
       "    <tr>\n",
       "      <th>3</th>\n",
       "      <td>2401</td>\n",
       "      <td>Borderlands</td>\n",
       "      <td>Positive</td>\n",
       "      <td>im getting on borderlands 2 and i will murder ...</td>\n",
       "    </tr>\n",
       "    <tr>\n",
       "      <th>4</th>\n",
       "      <td>2401</td>\n",
       "      <td>Borderlands</td>\n",
       "      <td>Positive</td>\n",
       "      <td>im getting into borderlands and i can murder y...</td>\n",
       "    </tr>\n",
       "    <tr>\n",
       "      <th>...</th>\n",
       "      <td>...</td>\n",
       "      <td>...</td>\n",
       "      <td>...</td>\n",
       "      <td>...</td>\n",
       "    </tr>\n",
       "    <tr>\n",
       "      <th>74676</th>\n",
       "      <td>9200</td>\n",
       "      <td>Nvidia</td>\n",
       "      <td>Positive</td>\n",
       "      <td>Just realized that the Windows partition of my...</td>\n",
       "    </tr>\n",
       "    <tr>\n",
       "      <th>74677</th>\n",
       "      <td>9200</td>\n",
       "      <td>Nvidia</td>\n",
       "      <td>Positive</td>\n",
       "      <td>Just realized that my Mac window partition is ...</td>\n",
       "    </tr>\n",
       "    <tr>\n",
       "      <th>74678</th>\n",
       "      <td>9200</td>\n",
       "      <td>Nvidia</td>\n",
       "      <td>Positive</td>\n",
       "      <td>Just realized the windows partition of my Mac ...</td>\n",
       "    </tr>\n",
       "    <tr>\n",
       "      <th>74679</th>\n",
       "      <td>9200</td>\n",
       "      <td>Nvidia</td>\n",
       "      <td>Positive</td>\n",
       "      <td>Just realized between the windows partition of...</td>\n",
       "    </tr>\n",
       "    <tr>\n",
       "      <th>74680</th>\n",
       "      <td>9200</td>\n",
       "      <td>Nvidia</td>\n",
       "      <td>Positive</td>\n",
       "      <td>Just like the windows partition of my Mac is l...</td>\n",
       "    </tr>\n",
       "  </tbody>\n",
       "</table>\n",
       "<p>74681 rows × 4 columns</p>\n",
       "</div>"
      ],
      "text/plain": [
       "       2401  Borderlands  Positive  \\\n",
       "0      2401  Borderlands  Positive   \n",
       "1      2401  Borderlands  Positive   \n",
       "2      2401  Borderlands  Positive   \n",
       "3      2401  Borderlands  Positive   \n",
       "4      2401  Borderlands  Positive   \n",
       "...     ...          ...       ...   \n",
       "74676  9200       Nvidia  Positive   \n",
       "74677  9200       Nvidia  Positive   \n",
       "74678  9200       Nvidia  Positive   \n",
       "74679  9200       Nvidia  Positive   \n",
       "74680  9200       Nvidia  Positive   \n",
       "\n",
       "      im getting on borderlands and i will murder you all ,  \n",
       "0      I am coming to the borders and I will kill you...     \n",
       "1      im getting on borderlands and i will kill you ...     \n",
       "2      im coming on borderlands and i will murder you...     \n",
       "3      im getting on borderlands 2 and i will murder ...     \n",
       "4      im getting into borderlands and i can murder y...     \n",
       "...                                                  ...     \n",
       "74676  Just realized that the Windows partition of my...     \n",
       "74677  Just realized that my Mac window partition is ...     \n",
       "74678  Just realized the windows partition of my Mac ...     \n",
       "74679  Just realized between the windows partition of...     \n",
       "74680  Just like the windows partition of my Mac is l...     \n",
       "\n",
       "[74681 rows x 4 columns]"
      ]
     },
     "execution_count": 26,
     "metadata": {},
     "output_type": "execute_result"
    }
   ],
   "source": [
    "df"
   ]
  },
  {
   "cell_type": "markdown",
   "id": "f258caae",
   "metadata": {},
   "source": [
    "**One will need to check for any missing values.**\n"
   ]
  },
  {
   "cell_type": "code",
   "execution_count": 27,
   "id": "8d81dfde",
   "metadata": {},
   "outputs": [
    {
     "name": "stdout",
     "output_type": "stream",
     "text": [
      "<class 'pandas.core.frame.DataFrame'>\n",
      "RangeIndex: 74681 entries, 0 to 74680\n",
      "Data columns (total 4 columns):\n",
      " #   Column                                                 Non-Null Count  Dtype \n",
      "---  ------                                                 --------------  ----- \n",
      " 0   2401                                                   74681 non-null  int64 \n",
      " 1   Borderlands                                            74681 non-null  object\n",
      " 2   Positive                                               74681 non-null  object\n",
      " 3   im getting on borderlands and i will murder you all ,  73995 non-null  object\n",
      "dtypes: int64(1), object(3)\n",
      "memory usage: 2.3+ MB\n"
     ]
    }
   ],
   "source": [
    "df.info()"
   ]
  },
  {
   "cell_type": "code",
   "execution_count": 28,
   "id": "6bedf139",
   "metadata": {},
   "outputs": [],
   "source": [
    "df= df.rename(columns={'2401': 'Tweet ID', 'Borderlands':'Entity','Positive':'Sentiment', 'im getting on borderlands and i will murder you all ,' :'Tweet content'})"
   ]
  },
  {
   "cell_type": "code",
   "execution_count": 29,
   "id": "6ccbd117",
   "metadata": {},
   "outputs": [
    {
     "data": {
      "application/vnd.microsoft.datawrangler.viewer.v0+json": {
       "columns": [
        {
         "name": "index",
         "rawType": "int64",
         "type": "integer"
        },
        {
         "name": "Tweet ID",
         "rawType": "int64",
         "type": "integer"
        },
        {
         "name": "Entity",
         "rawType": "object",
         "type": "string"
        },
        {
         "name": "Sentiment",
         "rawType": "object",
         "type": "string"
        },
        {
         "name": "Tweet content",
         "rawType": "object",
         "type": "unknown"
        }
       ],
       "ref": "72d4867b-6540-4719-acac-5511a777617d",
       "rows": [
        [
         "0",
         "2401",
         "Borderlands",
         "Positive",
         "I am coming to the borders and I will kill you all,"
        ],
        [
         "1",
         "2401",
         "Borderlands",
         "Positive",
         "im getting on borderlands and i will kill you all,"
        ],
        [
         "2",
         "2401",
         "Borderlands",
         "Positive",
         "im coming on borderlands and i will murder you all,"
        ],
        [
         "3",
         "2401",
         "Borderlands",
         "Positive",
         "im getting on borderlands 2 and i will murder you me all,"
        ],
        [
         "4",
         "2401",
         "Borderlands",
         "Positive",
         "im getting into borderlands and i can murder you all,"
        ],
        [
         "5",
         "2402",
         "Borderlands",
         "Positive",
         "So I spent a few hours making something for fun. . . If you don't know I am a HUGE @Borderlands fan and Maya is one of my favorite characters. So I decided to make myself a wallpaper for my PC. . Here is the original image versus the creation I made :) Enjoy! pic.twitter.com/mLsI5wf9Jg"
        ],
        [
         "6",
         "2402",
         "Borderlands",
         "Positive",
         "So I spent a couple of hours doing something for fun... If you don't know that I'm a huge @ Borderlands fan and Maya is one of my favorite characters, I decided to make a wallpaper for my PC.. Here's the original picture compared to the creation I made:) Have fun! pic.twitter.com / mLsI5wf9Jg"
        ],
        [
         "7",
         "2402",
         "Borderlands",
         "Positive",
         "So I spent a few hours doing something for fun... If you don't know I'm a HUGE @ Borderlands fan and Maya is one of my favorite characters."
        ],
        [
         "8",
         "2402",
         "Borderlands",
         "Positive",
         "So I spent a few hours making something for fun. . . If you don't know I am a HUGE RhandlerR fan and Maya is one of my favorite characters. So I decided to make myself a wallpaper for my PC. . Here is the original image versus the creation I made :) Enjoy! pic.twitter.com/mLsI5wf9Jg"
        ],
        [
         "9",
         "2402",
         "Borderlands",
         "Positive",
         "2010 So I spent a few hours making something for fun. . . If you don't know I am a HUGE RhandlerR fan and Maya is one of my favorite characters. So I decided to make myself a wallpaper for my PC. . Here is the original image versus the creation I made :) Enjoy! pic.twitter.com/mLsI5wf9Jg"
        ],
        [
         "10",
         "2402",
         "Borderlands",
         "Positive",
         "was"
        ],
        [
         "11",
         "2403",
         "Borderlands",
         "Neutral",
         "Rock-Hard La Varlope, RARE & POWERFUL, HANDSOME JACKPOT, Borderlands 3 (Xbox) dlvr.it/RMTrgF  "
        ],
        [
         "12",
         "2403",
         "Borderlands",
         "Neutral",
         "Rock-Hard La Varlope, RARE & POWERFUL, HANDSOME JACKPOT, Borderlands 3 (Xbox) dlvr.it / RMTrgF"
        ],
        [
         "13",
         "2403",
         "Borderlands",
         "Neutral",
         "Rock-Hard La Varlope, RARE & POWERFUL, HANDSOME JACKPOT, Borderlands 3 (Xbox) dfr.it / RMTrgF"
        ],
        [
         "14",
         "2403",
         "Borderlands",
         "Neutral",
         "Rock-Hard La Vita, RARE BUT POWERFUL, HANDSOME JACKPOT, Borderlands 1 (Xbox) dlvr.it/RMTrgF"
        ],
        [
         "15",
         "2403",
         "Borderlands",
         "Neutral",
         "Live Rock - Hard music La la Varlope, RARE & the POWERFUL, Live HANDSOME i JACKPOT, Borderlands 3 ( Sega Xbox ) dlvr. From it / e RMTrgF"
        ],
        [
         "16",
         "2403",
         "Borderlands",
         "Neutral",
         "I-Hard like me, RARE LONDON DE, HANDSOME 2011, Borderlands 3 (Xbox) dlvr.it/RMTrgF"
        ],
        [
         "17",
         "2404",
         "Borderlands",
         "Positive",
         "that was the first borderlands session in a long time where i actually had a really satisfying combat experience. i got some really good kills"
        ],
        [
         "18",
         "2404",
         "Borderlands",
         "Positive",
         "this was the first Borderlands session in a long time where i actually had a really satisfying fighting experience. i got some really good kills"
        ],
        [
         "19",
         "2404",
         "Borderlands",
         "Positive",
         "that was the first borderlands session in a long time where i actually had a really satisfying combat experience. i got some really good kills"
        ],
        [
         "20",
         "2404",
         "Borderlands",
         "Positive",
         "that was the first borderlands session in a long time where i actually enjoyed a really satisfying combat experience. i got some rather good kills"
        ],
        [
         "21",
         "2404",
         "Borderlands",
         "Positive",
         "that I was the first real borderlands session in a nice long wait time where i actually had a really satisfying combat experience. and i got some really good kills"
        ],
        [
         "22",
         "2404",
         "Borderlands",
         "Positive",
         "that was the first borderlands session in a hot row where i actually had a really bad combat experience. i did some really good kills"
        ],
        [
         "23",
         "2405",
         "Borderlands",
         "Negative",
         "the biggest dissappoinment in my life came out a year ago fuck borderlands 3"
        ],
        [
         "24",
         "2405",
         "Borderlands",
         "Negative",
         "The biggest disappointment of my life came a year ago."
        ],
        [
         "25",
         "2405",
         "Borderlands",
         "Negative",
         "The biggest disappointment of my life came a year ago."
        ],
        [
         "26",
         "2405",
         "Borderlands",
         "Negative",
         "the biggest dissappoinment in my life coming out a year ago fuck borderlands 3"
        ],
        [
         "27",
         "2405",
         "Borderlands",
         "Negative",
         "For the biggest male dissappoinment in my life came hanging out a year time ago fuck borderlands 3"
        ],
        [
         "28",
         "2405",
         "Borderlands",
         "Negative",
         "the biggest dissappoinment in my life came back last year ago fuck borderlands last"
        ],
        [
         "29",
         "2406",
         "Borderlands",
         "Positive",
         "WE FINISHED BORDERLANDS 3 FINALLY YAS! Thank you for hanging out everyone! It was fun. I will try to stream tomorrow but if not I might so some IRL streams while awayu. We shall see. Thank you so much for the raids @mompou_mumpow @MegaMagwitch and @KfdMitch."
        ],
        [
         "30",
         "2406",
         "Borderlands",
         "Positive",
         "WE FINALLY FINALLY FIND BORDERLANDS 3 YES! Thank you all for hanging out! It was fun. I'll try to stream tomorrow, but if not, maybe some IRL streams. We'll see. Thanks for the raids @ mompou _ mumpow @ MegaMagwitch and @ KfdMitch."
        ],
        [
         "31",
         "2406",
         "Borderlands",
         "Positive",
         "Thank you for hanging up everyone! It was fun. I'll try to get a haircut tomorrow, but if it wasn't for me, some IRL streams would still be in Hawaii. We'll see. Thank you so much for the @ mompou _ mumpow @ MegaMagwife and @ fendMitch raids."
        ],
        [
         "32",
         "2406",
         "Borderlands",
         "Positive",
         "WE FINISHED BORDERLANDS 3 UPDATE YAS! Thank you for hanging out guys! It was fun. I will try to stream and even if not I might so some IRL streams while awayu. We shall go. Thank you so much for the raids @mompou_mumpow @MegaMagwitch and Hope."
        ],
        [
         "33",
         "2406",
         "Borderlands",
         "Positive",
         "WE FINISHED BORDERLANDS 3 AND FINALLY YAS! Thank you everyone for hanging out everyone! It was fun. I will try to make stream tomorrow but if not I might make so some IRL streams while awayu. 10 We never shall see. Thank you both so... much for the raids @mompou_mumpow or @MegaMagwitch and 4 @KfdMitch."
        ],
        [
         "34",
         "2406",
         "Borderlands",
         "Positive",
         "WE FINISHED BORDERLANDS 3 FINALLY YAS! Hey you for hanging out so! It was fun. I will try that stream tomorrow and if not I might use some IRL streams from awayu. We shall see. Thank you so much how many raids @mompou_mumpow did and their."
        ],
        [
         "35",
         "2407",
         "Borderlands",
         "Negative",
         "Man Gearbox really needs to fix this dissapointing drops in the new Borderlands 3 DLC cant be fine to farm bosses on Mayhem 10 to get 1 legendary drop while anywhere else i get 6-10 drops. . Really sucks alot"
        ],
        [
         "36",
         "2407",
         "Borderlands",
         "Negative",
         "Man Gearbox really needs to fix these disappointing drops in the new Borderlands 3 DLC for farm bosses on Mayhem 10 to get a legendary drop, while I get 6-10 drops elsewhere."
        ],
        [
         "37",
         "2407",
         "Borderlands",
         "Negative",
         "Man Gearbox really needs to fix this disssapointing drops in the new Borderlands 3 DLC cant be fine to farm bosses on Mayhem 10 to get 1 legendary drop while elsewhere i get 6-10 drops... Really sucks alot"
        ],
        [
         "38",
         "2407",
         "Borderlands",
         "Negative",
         "Man Bethesda really needs to fix this dissapointing drops and the new Borderlands 3 It cant be fine to farm bosses on Mayhem 10 to get 1 legendary drop while anywhere else i get 6-10 drops.. Really sucks..."
        ],
        [
         "39",
         "2407",
         "Borderlands",
         "Negative",
         "Man Gearbox really needs to fix this dissapointing drops in the completely new Borderlands 3 Days DLC i cant e be fine having to be farm bosses on Mayhem 10 to e get 1 legendary foot drop while anywhere else i get 6 - 10 drops.. It Really sucks to alot"
        ],
        [
         "40",
         "2407",
         "Borderlands",
         "Negative",
         "<unk> Gearbox really time to fix this 10 drops in the new Borderlands 3 DLC or be fine to force bosses on Mayhem 10 to get a legendary drop while everyone else i get 6-10 drops.. Really needs alot"
        ],
        [
         "41",
         "2408",
         "Borderlands",
         "Neutral",
         "Check out this epic streamer!.  "
        ],
        [
         "42",
         "2408",
         "Borderlands",
         "Neutral",
         "Check out this epic streamer!."
        ],
        [
         "43",
         "2408",
         "Borderlands",
         "Neutral",
         "Watch this epic striptease!."
        ],
        [
         "44",
         "2408",
         "Borderlands",
         "Neutral",
         "Check out our epic streamer!."
        ],
        [
         "45",
         "2408",
         "Borderlands",
         "Neutral",
         "Check out this big epic streamer!."
        ],
        [
         "46",
         "2408",
         "Borderlands",
         "Neutral",
         "Check<unk> this epic streamer!."
        ],
        [
         "47",
         "2409",
         "Borderlands",
         "Neutral",
         "Blaming Sight for Tardiness! A little bit of borderlands. I got called in early for work tomorrow so I can't make up time. Sorry my loves .  twitch.tv/punnisenpai"
        ],
        [
         "48",
         "2409",
         "Borderlands",
         "Neutral",
         "A bit of borderland. I was called to work tomorrow morning, so I can't catch up. Sorry, my love. twitch.tv / punnisenpai"
        ],
        [
         "49",
         "2409",
         "Borderlands",
         "Neutral",
         "Guilty of sobriety! A bit of a borderline. I was called to work early tomorrow, so I can't catch up."
        ]
       ],
       "shape": {
        "columns": 4,
        "rows": 74681
       }
      },
      "text/html": [
       "<div>\n",
       "<style scoped>\n",
       "    .dataframe tbody tr th:only-of-type {\n",
       "        vertical-align: middle;\n",
       "    }\n",
       "\n",
       "    .dataframe tbody tr th {\n",
       "        vertical-align: top;\n",
       "    }\n",
       "\n",
       "    .dataframe thead th {\n",
       "        text-align: right;\n",
       "    }\n",
       "</style>\n",
       "<table border=\"1\" class=\"dataframe\">\n",
       "  <thead>\n",
       "    <tr style=\"text-align: right;\">\n",
       "      <th></th>\n",
       "      <th>Tweet ID</th>\n",
       "      <th>Entity</th>\n",
       "      <th>Sentiment</th>\n",
       "      <th>Tweet content</th>\n",
       "    </tr>\n",
       "  </thead>\n",
       "  <tbody>\n",
       "    <tr>\n",
       "      <th>0</th>\n",
       "      <td>2401</td>\n",
       "      <td>Borderlands</td>\n",
       "      <td>Positive</td>\n",
       "      <td>I am coming to the borders and I will kill you...</td>\n",
       "    </tr>\n",
       "    <tr>\n",
       "      <th>1</th>\n",
       "      <td>2401</td>\n",
       "      <td>Borderlands</td>\n",
       "      <td>Positive</td>\n",
       "      <td>im getting on borderlands and i will kill you ...</td>\n",
       "    </tr>\n",
       "    <tr>\n",
       "      <th>2</th>\n",
       "      <td>2401</td>\n",
       "      <td>Borderlands</td>\n",
       "      <td>Positive</td>\n",
       "      <td>im coming on borderlands and i will murder you...</td>\n",
       "    </tr>\n",
       "    <tr>\n",
       "      <th>3</th>\n",
       "      <td>2401</td>\n",
       "      <td>Borderlands</td>\n",
       "      <td>Positive</td>\n",
       "      <td>im getting on borderlands 2 and i will murder ...</td>\n",
       "    </tr>\n",
       "    <tr>\n",
       "      <th>4</th>\n",
       "      <td>2401</td>\n",
       "      <td>Borderlands</td>\n",
       "      <td>Positive</td>\n",
       "      <td>im getting into borderlands and i can murder y...</td>\n",
       "    </tr>\n",
       "    <tr>\n",
       "      <th>...</th>\n",
       "      <td>...</td>\n",
       "      <td>...</td>\n",
       "      <td>...</td>\n",
       "      <td>...</td>\n",
       "    </tr>\n",
       "    <tr>\n",
       "      <th>74676</th>\n",
       "      <td>9200</td>\n",
       "      <td>Nvidia</td>\n",
       "      <td>Positive</td>\n",
       "      <td>Just realized that the Windows partition of my...</td>\n",
       "    </tr>\n",
       "    <tr>\n",
       "      <th>74677</th>\n",
       "      <td>9200</td>\n",
       "      <td>Nvidia</td>\n",
       "      <td>Positive</td>\n",
       "      <td>Just realized that my Mac window partition is ...</td>\n",
       "    </tr>\n",
       "    <tr>\n",
       "      <th>74678</th>\n",
       "      <td>9200</td>\n",
       "      <td>Nvidia</td>\n",
       "      <td>Positive</td>\n",
       "      <td>Just realized the windows partition of my Mac ...</td>\n",
       "    </tr>\n",
       "    <tr>\n",
       "      <th>74679</th>\n",
       "      <td>9200</td>\n",
       "      <td>Nvidia</td>\n",
       "      <td>Positive</td>\n",
       "      <td>Just realized between the windows partition of...</td>\n",
       "    </tr>\n",
       "    <tr>\n",
       "      <th>74680</th>\n",
       "      <td>9200</td>\n",
       "      <td>Nvidia</td>\n",
       "      <td>Positive</td>\n",
       "      <td>Just like the windows partition of my Mac is l...</td>\n",
       "    </tr>\n",
       "  </tbody>\n",
       "</table>\n",
       "<p>74681 rows × 4 columns</p>\n",
       "</div>"
      ],
      "text/plain": [
       "       Tweet ID       Entity Sentiment  \\\n",
       "0          2401  Borderlands  Positive   \n",
       "1          2401  Borderlands  Positive   \n",
       "2          2401  Borderlands  Positive   \n",
       "3          2401  Borderlands  Positive   \n",
       "4          2401  Borderlands  Positive   \n",
       "...         ...          ...       ...   \n",
       "74676      9200       Nvidia  Positive   \n",
       "74677      9200       Nvidia  Positive   \n",
       "74678      9200       Nvidia  Positive   \n",
       "74679      9200       Nvidia  Positive   \n",
       "74680      9200       Nvidia  Positive   \n",
       "\n",
       "                                           Tweet content  \n",
       "0      I am coming to the borders and I will kill you...  \n",
       "1      im getting on borderlands and i will kill you ...  \n",
       "2      im coming on borderlands and i will murder you...  \n",
       "3      im getting on borderlands 2 and i will murder ...  \n",
       "4      im getting into borderlands and i can murder y...  \n",
       "...                                                  ...  \n",
       "74676  Just realized that the Windows partition of my...  \n",
       "74677  Just realized that my Mac window partition is ...  \n",
       "74678  Just realized the windows partition of my Mac ...  \n",
       "74679  Just realized between the windows partition of...  \n",
       "74680  Just like the windows partition of my Mac is l...  \n",
       "\n",
       "[74681 rows x 4 columns]"
      ]
     },
     "execution_count": 29,
     "metadata": {},
     "output_type": "execute_result"
    }
   ],
   "source": [
    "df"
   ]
  },
  {
   "cell_type": "code",
   "execution_count": 30,
   "id": "f8744330",
   "metadata": {},
   "outputs": [
    {
     "data": {
      "application/vnd.microsoft.datawrangler.viewer.v0+json": {
       "columns": [
        {
         "name": "index",
         "rawType": "object",
         "type": "string"
        },
        {
         "name": "0",
         "rawType": "int64",
         "type": "integer"
        }
       ],
       "ref": "6ea6c9f7-e6f8-42cb-9dce-a7df4786fb6b",
       "rows": [
        [
         "Tweet ID",
         "0"
        ],
        [
         "Entity",
         "0"
        ],
        [
         "Sentiment",
         "0"
        ],
        [
         "Tweet content",
         "686"
        ]
       ],
       "shape": {
        "columns": 1,
        "rows": 4
       }
      },
      "text/plain": [
       "Tweet ID           0\n",
       "Entity             0\n",
       "Sentiment          0\n",
       "Tweet content    686\n",
       "dtype: int64"
      ]
     },
     "execution_count": 30,
     "metadata": {},
     "output_type": "execute_result"
    }
   ],
   "source": [
    "df.isnull().sum()"
   ]
  },
  {
   "cell_type": "code",
   "execution_count": 31,
   "id": "2701ce70",
   "metadata": {},
   "outputs": [],
   "source": [
    "df= df.dropna()"
   ]
  },
  {
   "cell_type": "code",
   "execution_count": 32,
   "id": "80d4d9a4",
   "metadata": {},
   "outputs": [
    {
     "data": {
      "application/vnd.microsoft.datawrangler.viewer.v0+json": {
       "columns": [
        {
         "name": "index",
         "rawType": "object",
         "type": "string"
        },
        {
         "name": "0",
         "rawType": "int64",
         "type": "integer"
        }
       ],
       "ref": "b1d99446-c0fe-423e-a97c-05227558e210",
       "rows": [
        [
         "Tweet ID",
         "0"
        ],
        [
         "Entity",
         "0"
        ],
        [
         "Sentiment",
         "0"
        ],
        [
         "Tweet content",
         "0"
        ]
       ],
       "shape": {
        "columns": 1,
        "rows": 4
       }
      },
      "text/plain": [
       "Tweet ID         0\n",
       "Entity           0\n",
       "Sentiment        0\n",
       "Tweet content    0\n",
       "dtype: int64"
      ]
     },
     "execution_count": 32,
     "metadata": {},
     "output_type": "execute_result"
    }
   ],
   "source": [
    "df.isnull().sum()"
   ]
  },
  {
   "cell_type": "code",
   "execution_count": 33,
   "id": "e4ceeb51",
   "metadata": {},
   "outputs": [
    {
     "data": {
      "application/vnd.microsoft.datawrangler.viewer.v0+json": {
       "columns": [
        {
         "name": "index",
         "rawType": "int64",
         "type": "integer"
        },
        {
         "name": "Tweet ID",
         "rawType": "int64",
         "type": "integer"
        },
        {
         "name": "Entity",
         "rawType": "object",
         "type": "string"
        },
        {
         "name": "Sentiment",
         "rawType": "object",
         "type": "string"
        },
        {
         "name": "Tweet content",
         "rawType": "object",
         "type": "string"
        }
       ],
       "ref": "772f999a-7722-4a28-afb3-04b9d9a40d59",
       "rows": [
        [
         "0",
         "2401",
         "Borderlands",
         "Positive",
         "I am coming to the borders and I will kill you all,"
        ],
        [
         "1",
         "2401",
         "Borderlands",
         "Positive",
         "im getting on borderlands and i will kill you all,"
        ],
        [
         "2",
         "2401",
         "Borderlands",
         "Positive",
         "im coming on borderlands and i will murder you all,"
        ],
        [
         "3",
         "2401",
         "Borderlands",
         "Positive",
         "im getting on borderlands 2 and i will murder you me all,"
        ],
        [
         "4",
         "2401",
         "Borderlands",
         "Positive",
         "im getting into borderlands and i can murder you all,"
        ],
        [
         "5",
         "2402",
         "Borderlands",
         "Positive",
         "So I spent a few hours making something for fun. . . If you don't know I am a HUGE @Borderlands fan and Maya is one of my favorite characters. So I decided to make myself a wallpaper for my PC. . Here is the original image versus the creation I made :) Enjoy! pic.twitter.com/mLsI5wf9Jg"
        ],
        [
         "6",
         "2402",
         "Borderlands",
         "Positive",
         "So I spent a couple of hours doing something for fun... If you don't know that I'm a huge @ Borderlands fan and Maya is one of my favorite characters, I decided to make a wallpaper for my PC.. Here's the original picture compared to the creation I made:) Have fun! pic.twitter.com / mLsI5wf9Jg"
        ],
        [
         "7",
         "2402",
         "Borderlands",
         "Positive",
         "So I spent a few hours doing something for fun... If you don't know I'm a HUGE @ Borderlands fan and Maya is one of my favorite characters."
        ],
        [
         "8",
         "2402",
         "Borderlands",
         "Positive",
         "So I spent a few hours making something for fun. . . If you don't know I am a HUGE RhandlerR fan and Maya is one of my favorite characters. So I decided to make myself a wallpaper for my PC. . Here is the original image versus the creation I made :) Enjoy! pic.twitter.com/mLsI5wf9Jg"
        ],
        [
         "9",
         "2402",
         "Borderlands",
         "Positive",
         "2010 So I spent a few hours making something for fun. . . If you don't know I am a HUGE RhandlerR fan and Maya is one of my favorite characters. So I decided to make myself a wallpaper for my PC. . Here is the original image versus the creation I made :) Enjoy! pic.twitter.com/mLsI5wf9Jg"
        ],
        [
         "10",
         "2402",
         "Borderlands",
         "Positive",
         "was"
        ],
        [
         "11",
         "2403",
         "Borderlands",
         "Neutral",
         "Rock-Hard La Varlope, RARE & POWERFUL, HANDSOME JACKPOT, Borderlands 3 (Xbox) dlvr.it/RMTrgF  "
        ],
        [
         "12",
         "2403",
         "Borderlands",
         "Neutral",
         "Rock-Hard La Varlope, RARE & POWERFUL, HANDSOME JACKPOT, Borderlands 3 (Xbox) dlvr.it / RMTrgF"
        ],
        [
         "13",
         "2403",
         "Borderlands",
         "Neutral",
         "Rock-Hard La Varlope, RARE & POWERFUL, HANDSOME JACKPOT, Borderlands 3 (Xbox) dfr.it / RMTrgF"
        ],
        [
         "14",
         "2403",
         "Borderlands",
         "Neutral",
         "Rock-Hard La Vita, RARE BUT POWERFUL, HANDSOME JACKPOT, Borderlands 1 (Xbox) dlvr.it/RMTrgF"
        ],
        [
         "15",
         "2403",
         "Borderlands",
         "Neutral",
         "Live Rock - Hard music La la Varlope, RARE & the POWERFUL, Live HANDSOME i JACKPOT, Borderlands 3 ( Sega Xbox ) dlvr. From it / e RMTrgF"
        ],
        [
         "16",
         "2403",
         "Borderlands",
         "Neutral",
         "I-Hard like me, RARE LONDON DE, HANDSOME 2011, Borderlands 3 (Xbox) dlvr.it/RMTrgF"
        ],
        [
         "17",
         "2404",
         "Borderlands",
         "Positive",
         "that was the first borderlands session in a long time where i actually had a really satisfying combat experience. i got some really good kills"
        ],
        [
         "18",
         "2404",
         "Borderlands",
         "Positive",
         "this was the first Borderlands session in a long time where i actually had a really satisfying fighting experience. i got some really good kills"
        ],
        [
         "19",
         "2404",
         "Borderlands",
         "Positive",
         "that was the first borderlands session in a long time where i actually had a really satisfying combat experience. i got some really good kills"
        ],
        [
         "20",
         "2404",
         "Borderlands",
         "Positive",
         "that was the first borderlands session in a long time where i actually enjoyed a really satisfying combat experience. i got some rather good kills"
        ],
        [
         "21",
         "2404",
         "Borderlands",
         "Positive",
         "that I was the first real borderlands session in a nice long wait time where i actually had a really satisfying combat experience. and i got some really good kills"
        ],
        [
         "22",
         "2404",
         "Borderlands",
         "Positive",
         "that was the first borderlands session in a hot row where i actually had a really bad combat experience. i did some really good kills"
        ],
        [
         "23",
         "2405",
         "Borderlands",
         "Negative",
         "the biggest dissappoinment in my life came out a year ago fuck borderlands 3"
        ],
        [
         "24",
         "2405",
         "Borderlands",
         "Negative",
         "The biggest disappointment of my life came a year ago."
        ],
        [
         "25",
         "2405",
         "Borderlands",
         "Negative",
         "The biggest disappointment of my life came a year ago."
        ],
        [
         "26",
         "2405",
         "Borderlands",
         "Negative",
         "the biggest dissappoinment in my life coming out a year ago fuck borderlands 3"
        ],
        [
         "27",
         "2405",
         "Borderlands",
         "Negative",
         "For the biggest male dissappoinment in my life came hanging out a year time ago fuck borderlands 3"
        ],
        [
         "28",
         "2405",
         "Borderlands",
         "Negative",
         "the biggest dissappoinment in my life came back last year ago fuck borderlands last"
        ],
        [
         "29",
         "2406",
         "Borderlands",
         "Positive",
         "WE FINISHED BORDERLANDS 3 FINALLY YAS! Thank you for hanging out everyone! It was fun. I will try to stream tomorrow but if not I might so some IRL streams while awayu. We shall see. Thank you so much for the raids @mompou_mumpow @MegaMagwitch and @KfdMitch."
        ],
        [
         "30",
         "2406",
         "Borderlands",
         "Positive",
         "WE FINALLY FINALLY FIND BORDERLANDS 3 YES! Thank you all for hanging out! It was fun. I'll try to stream tomorrow, but if not, maybe some IRL streams. We'll see. Thanks for the raids @ mompou _ mumpow @ MegaMagwitch and @ KfdMitch."
        ],
        [
         "31",
         "2406",
         "Borderlands",
         "Positive",
         "Thank you for hanging up everyone! It was fun. I'll try to get a haircut tomorrow, but if it wasn't for me, some IRL streams would still be in Hawaii. We'll see. Thank you so much for the @ mompou _ mumpow @ MegaMagwife and @ fendMitch raids."
        ],
        [
         "32",
         "2406",
         "Borderlands",
         "Positive",
         "WE FINISHED BORDERLANDS 3 UPDATE YAS! Thank you for hanging out guys! It was fun. I will try to stream and even if not I might so some IRL streams while awayu. We shall go. Thank you so much for the raids @mompou_mumpow @MegaMagwitch and Hope."
        ],
        [
         "33",
         "2406",
         "Borderlands",
         "Positive",
         "WE FINISHED BORDERLANDS 3 AND FINALLY YAS! Thank you everyone for hanging out everyone! It was fun. I will try to make stream tomorrow but if not I might make so some IRL streams while awayu. 10 We never shall see. Thank you both so... much for the raids @mompou_mumpow or @MegaMagwitch and 4 @KfdMitch."
        ],
        [
         "34",
         "2406",
         "Borderlands",
         "Positive",
         "WE FINISHED BORDERLANDS 3 FINALLY YAS! Hey you for hanging out so! It was fun. I will try that stream tomorrow and if not I might use some IRL streams from awayu. We shall see. Thank you so much how many raids @mompou_mumpow did and their."
        ],
        [
         "35",
         "2407",
         "Borderlands",
         "Negative",
         "Man Gearbox really needs to fix this dissapointing drops in the new Borderlands 3 DLC cant be fine to farm bosses on Mayhem 10 to get 1 legendary drop while anywhere else i get 6-10 drops. . Really sucks alot"
        ],
        [
         "36",
         "2407",
         "Borderlands",
         "Negative",
         "Man Gearbox really needs to fix these disappointing drops in the new Borderlands 3 DLC for farm bosses on Mayhem 10 to get a legendary drop, while I get 6-10 drops elsewhere."
        ],
        [
         "37",
         "2407",
         "Borderlands",
         "Negative",
         "Man Gearbox really needs to fix this disssapointing drops in the new Borderlands 3 DLC cant be fine to farm bosses on Mayhem 10 to get 1 legendary drop while elsewhere i get 6-10 drops... Really sucks alot"
        ],
        [
         "38",
         "2407",
         "Borderlands",
         "Negative",
         "Man Bethesda really needs to fix this dissapointing drops and the new Borderlands 3 It cant be fine to farm bosses on Mayhem 10 to get 1 legendary drop while anywhere else i get 6-10 drops.. Really sucks..."
        ],
        [
         "39",
         "2407",
         "Borderlands",
         "Negative",
         "Man Gearbox really needs to fix this dissapointing drops in the completely new Borderlands 3 Days DLC i cant e be fine having to be farm bosses on Mayhem 10 to e get 1 legendary foot drop while anywhere else i get 6 - 10 drops.. It Really sucks to alot"
        ],
        [
         "40",
         "2407",
         "Borderlands",
         "Negative",
         "<unk> Gearbox really time to fix this 10 drops in the new Borderlands 3 DLC or be fine to force bosses on Mayhem 10 to get a legendary drop while everyone else i get 6-10 drops.. Really needs alot"
        ],
        [
         "41",
         "2408",
         "Borderlands",
         "Neutral",
         "Check out this epic streamer!.  "
        ],
        [
         "42",
         "2408",
         "Borderlands",
         "Neutral",
         "Check out this epic streamer!."
        ],
        [
         "43",
         "2408",
         "Borderlands",
         "Neutral",
         "Watch this epic striptease!."
        ],
        [
         "44",
         "2408",
         "Borderlands",
         "Neutral",
         "Check out our epic streamer!."
        ],
        [
         "45",
         "2408",
         "Borderlands",
         "Neutral",
         "Check out this big epic streamer!."
        ],
        [
         "46",
         "2408",
         "Borderlands",
         "Neutral",
         "Check<unk> this epic streamer!."
        ],
        [
         "47",
         "2409",
         "Borderlands",
         "Neutral",
         "Blaming Sight for Tardiness! A little bit of borderlands. I got called in early for work tomorrow so I can't make up time. Sorry my loves .  twitch.tv/punnisenpai"
        ],
        [
         "48",
         "2409",
         "Borderlands",
         "Neutral",
         "A bit of borderland. I was called to work tomorrow morning, so I can't catch up. Sorry, my love. twitch.tv / punnisenpai"
        ],
        [
         "49",
         "2409",
         "Borderlands",
         "Neutral",
         "Guilty of sobriety! A bit of a borderline. I was called to work early tomorrow, so I can't catch up."
        ]
       ],
       "shape": {
        "columns": 4,
        "rows": 73995
       }
      },
      "text/html": [
       "<div>\n",
       "<style scoped>\n",
       "    .dataframe tbody tr th:only-of-type {\n",
       "        vertical-align: middle;\n",
       "    }\n",
       "\n",
       "    .dataframe tbody tr th {\n",
       "        vertical-align: top;\n",
       "    }\n",
       "\n",
       "    .dataframe thead th {\n",
       "        text-align: right;\n",
       "    }\n",
       "</style>\n",
       "<table border=\"1\" class=\"dataframe\">\n",
       "  <thead>\n",
       "    <tr style=\"text-align: right;\">\n",
       "      <th></th>\n",
       "      <th>Tweet ID</th>\n",
       "      <th>Entity</th>\n",
       "      <th>Sentiment</th>\n",
       "      <th>Tweet content</th>\n",
       "    </tr>\n",
       "  </thead>\n",
       "  <tbody>\n",
       "    <tr>\n",
       "      <th>0</th>\n",
       "      <td>2401</td>\n",
       "      <td>Borderlands</td>\n",
       "      <td>Positive</td>\n",
       "      <td>I am coming to the borders and I will kill you...</td>\n",
       "    </tr>\n",
       "    <tr>\n",
       "      <th>1</th>\n",
       "      <td>2401</td>\n",
       "      <td>Borderlands</td>\n",
       "      <td>Positive</td>\n",
       "      <td>im getting on borderlands and i will kill you ...</td>\n",
       "    </tr>\n",
       "    <tr>\n",
       "      <th>2</th>\n",
       "      <td>2401</td>\n",
       "      <td>Borderlands</td>\n",
       "      <td>Positive</td>\n",
       "      <td>im coming on borderlands and i will murder you...</td>\n",
       "    </tr>\n",
       "    <tr>\n",
       "      <th>3</th>\n",
       "      <td>2401</td>\n",
       "      <td>Borderlands</td>\n",
       "      <td>Positive</td>\n",
       "      <td>im getting on borderlands 2 and i will murder ...</td>\n",
       "    </tr>\n",
       "    <tr>\n",
       "      <th>4</th>\n",
       "      <td>2401</td>\n",
       "      <td>Borderlands</td>\n",
       "      <td>Positive</td>\n",
       "      <td>im getting into borderlands and i can murder y...</td>\n",
       "    </tr>\n",
       "    <tr>\n",
       "      <th>...</th>\n",
       "      <td>...</td>\n",
       "      <td>...</td>\n",
       "      <td>...</td>\n",
       "      <td>...</td>\n",
       "    </tr>\n",
       "    <tr>\n",
       "      <th>74676</th>\n",
       "      <td>9200</td>\n",
       "      <td>Nvidia</td>\n",
       "      <td>Positive</td>\n",
       "      <td>Just realized that the Windows partition of my...</td>\n",
       "    </tr>\n",
       "    <tr>\n",
       "      <th>74677</th>\n",
       "      <td>9200</td>\n",
       "      <td>Nvidia</td>\n",
       "      <td>Positive</td>\n",
       "      <td>Just realized that my Mac window partition is ...</td>\n",
       "    </tr>\n",
       "    <tr>\n",
       "      <th>74678</th>\n",
       "      <td>9200</td>\n",
       "      <td>Nvidia</td>\n",
       "      <td>Positive</td>\n",
       "      <td>Just realized the windows partition of my Mac ...</td>\n",
       "    </tr>\n",
       "    <tr>\n",
       "      <th>74679</th>\n",
       "      <td>9200</td>\n",
       "      <td>Nvidia</td>\n",
       "      <td>Positive</td>\n",
       "      <td>Just realized between the windows partition of...</td>\n",
       "    </tr>\n",
       "    <tr>\n",
       "      <th>74680</th>\n",
       "      <td>9200</td>\n",
       "      <td>Nvidia</td>\n",
       "      <td>Positive</td>\n",
       "      <td>Just like the windows partition of my Mac is l...</td>\n",
       "    </tr>\n",
       "  </tbody>\n",
       "</table>\n",
       "<p>73995 rows × 4 columns</p>\n",
       "</div>"
      ],
      "text/plain": [
       "       Tweet ID       Entity Sentiment  \\\n",
       "0          2401  Borderlands  Positive   \n",
       "1          2401  Borderlands  Positive   \n",
       "2          2401  Borderlands  Positive   \n",
       "3          2401  Borderlands  Positive   \n",
       "4          2401  Borderlands  Positive   \n",
       "...         ...          ...       ...   \n",
       "74676      9200       Nvidia  Positive   \n",
       "74677      9200       Nvidia  Positive   \n",
       "74678      9200       Nvidia  Positive   \n",
       "74679      9200       Nvidia  Positive   \n",
       "74680      9200       Nvidia  Positive   \n",
       "\n",
       "                                           Tweet content  \n",
       "0      I am coming to the borders and I will kill you...  \n",
       "1      im getting on borderlands and i will kill you ...  \n",
       "2      im coming on borderlands and i will murder you...  \n",
       "3      im getting on borderlands 2 and i will murder ...  \n",
       "4      im getting into borderlands and i can murder y...  \n",
       "...                                                  ...  \n",
       "74676  Just realized that the Windows partition of my...  \n",
       "74677  Just realized that my Mac window partition is ...  \n",
       "74678  Just realized the windows partition of my Mac ...  \n",
       "74679  Just realized between the windows partition of...  \n",
       "74680  Just like the windows partition of my Mac is l...  \n",
       "\n",
       "[73995 rows x 4 columns]"
      ]
     },
     "execution_count": 33,
     "metadata": {},
     "output_type": "execute_result"
    }
   ],
   "source": [
    "df"
   ]
  },
  {
   "cell_type": "markdown",
   "id": "0ea73970",
   "metadata": {},
   "source": [
    "**One can also check if the classes are balanced , we see that the supposed label categories are not balanced with Irrelevant category being the least represented.**"
   ]
  },
  {
   "cell_type": "code",
   "execution_count": 34,
   "id": "e1138dd4",
   "metadata": {},
   "outputs": [
    {
     "data": {
      "text/plain": [
       "<Axes: xlabel='Sentiment', ylabel='count'>"
      ]
     },
     "execution_count": 34,
     "metadata": {},
     "output_type": "execute_result"
    },
    {
     "data": {
      "image/png": "[encoded data removed]",
      "text/plain": [
       "<Figure size 640x480 with 1 Axes>"
      ]
     },
     "metadata": {},
     "output_type": "display_data"
    }
   ],
   "source": [
    "sns.countplot(data=df, x='Sentiment', hue='Sentiment')"
   ]
  },
  {
   "cell_type": "markdown",
   "id": "67abb40e",
   "metadata": {},
   "source": [
    "The provider of the dataset mentioned that irrelevant records are neutral beacuse they do are not relevant to any entity , we want to do Positive , Negative or Neutral sentiment analysis hence we do not need the Irrelevant category."
   ]
  },
  {
   "cell_type": "code",
   "execution_count": 35,
   "id": "ebc8f616",
   "metadata": {},
   "outputs": [
    {
     "data": {
      "application/vnd.microsoft.datawrangler.viewer.v0+json": {
       "columns": [
        {
         "name": "index",
         "rawType": "int64",
         "type": "integer"
        },
        {
         "name": "Sentiment",
         "rawType": "bool",
         "type": "boolean"
        }
       ],
       "ref": "22595540-19e9-4b8f-9feb-25a751d04e87",
       "rows": [
        [
         "0",
         "True"
        ],
        [
         "1",
         "True"
        ],
        [
         "2",
         "True"
        ],
        [
         "3",
         "True"
        ],
        [
         "4",
         "True"
        ],
        [
         "5",
         "True"
        ],
        [
         "6",
         "True"
        ],
        [
         "7",
         "True"
        ],
        [
         "8",
         "True"
        ],
        [
         "9",
         "True"
        ],
        [
         "10",
         "True"
        ],
        [
         "11",
         "True"
        ],
        [
         "12",
         "True"
        ],
        [
         "13",
         "True"
        ],
        [
         "14",
         "True"
        ],
        [
         "15",
         "True"
        ],
        [
         "16",
         "True"
        ],
        [
         "17",
         "True"
        ],
        [
         "18",
         "True"
        ],
        [
         "19",
         "True"
        ],
        [
         "20",
         "True"
        ],
        [
         "21",
         "True"
        ],
        [
         "22",
         "True"
        ],
        [
         "23",
         "True"
        ],
        [
         "24",
         "True"
        ],
        [
         "25",
         "True"
        ],
        [
         "26",
         "True"
        ],
        [
         "27",
         "True"
        ],
        [
         "28",
         "True"
        ],
        [
         "29",
         "True"
        ],
        [
         "30",
         "True"
        ],
        [
         "31",
         "True"
        ],
        [
         "32",
         "True"
        ],
        [
         "33",
         "True"
        ],
        [
         "34",
         "True"
        ],
        [
         "35",
         "True"
        ],
        [
         "36",
         "True"
        ],
        [
         "37",
         "True"
        ],
        [
         "38",
         "True"
        ],
        [
         "39",
         "True"
        ],
        [
         "40",
         "True"
        ],
        [
         "41",
         "True"
        ],
        [
         "42",
         "True"
        ],
        [
         "43",
         "True"
        ],
        [
         "44",
         "True"
        ],
        [
         "45",
         "True"
        ],
        [
         "46",
         "True"
        ],
        [
         "47",
         "True"
        ],
        [
         "48",
         "True"
        ],
        [
         "49",
         "True"
        ]
       ],
       "shape": {
        "columns": 1,
        "rows": 73995
       }
      },
      "text/plain": [
       "0        True\n",
       "1        True\n",
       "2        True\n",
       "3        True\n",
       "4        True\n",
       "         ... \n",
       "74676    True\n",
       "74677    True\n",
       "74678    True\n",
       "74679    True\n",
       "74680    True\n",
       "Name: Sentiment, Length: 73995, dtype: bool"
      ]
     },
     "execution_count": 35,
     "metadata": {},
     "output_type": "execute_result"
    }
   ],
   "source": [
    "w=df['Sentiment']!='Irrelevant'\n",
    "w"
   ]
  },
  {
   "cell_type": "code",
   "execution_count": 36,
   "id": "2564d6fa",
   "metadata": {},
   "outputs": [
    {
     "data": {
      "text/plain": [
       "array(['Positive', 'Neutral', 'Negative'], dtype=object)"
      ]
     },
     "execution_count": 36,
     "metadata": {},
     "output_type": "execute_result"
    }
   ],
   "source": [
    "df= df[w]\n",
    "df['Sentiment'].unique()"
   ]
  },
  {
   "cell_type": "markdown",
   "id": "7e2038cd",
   "metadata": {},
   "source": [
    "One will also need to consider any reviews that are empty spaces mistaken for text"
   ]
  },
  {
   "cell_type": "code",
   "execution_count": 37,
   "id": "feba1665",
   "metadata": {},
   "outputs": [
    {
     "data": {
      "text/plain": [
       "np.int64(139)"
      ]
     },
     "execution_count": 37,
     "metadata": {},
     "output_type": "execute_result"
    }
   ],
   "source": [
    "df['Tweet content'].str.isspace().sum()\n"
   ]
  },
  {
   "cell_type": "code",
   "execution_count": 38,
   "id": "318f4d7c",
   "metadata": {},
   "outputs": [
    {
     "data": {
      "application/vnd.microsoft.datawrangler.viewer.v0+json": {
       "columns": [
        {
         "name": "index",
         "rawType": "int64",
         "type": "integer"
        },
        {
         "name": "Tweet ID",
         "rawType": "int64",
         "type": "integer"
        },
        {
         "name": "Entity",
         "rawType": "object",
         "type": "string"
        },
        {
         "name": "Sentiment",
         "rawType": "object",
         "type": "string"
        },
        {
         "name": "Tweet content",
         "rawType": "object",
         "type": "string"
        }
       ],
       "ref": "cfd690a7-6011-49ad-9ae6-b8032056f13e",
       "rows": [
        [
         "0",
         "2401",
         "Borderlands",
         "Positive",
         "I am coming to the borders and I will kill you all,"
        ],
        [
         "1",
         "2401",
         "Borderlands",
         "Positive",
         "im getting on borderlands and i will kill you all,"
        ],
        [
         "2",
         "2401",
         "Borderlands",
         "Positive",
         "im coming on borderlands and i will murder you all,"
        ],
        [
         "3",
         "2401",
         "Borderlands",
         "Positive",
         "im getting on borderlands 2 and i will murder you me all,"
        ],
        [
         "4",
         "2401",
         "Borderlands",
         "Positive",
         "im getting into borderlands and i can murder you all,"
        ],
        [
         "5",
         "2402",
         "Borderlands",
         "Positive",
         "So I spent a few hours making something for fun. . . If you don't know I am a HUGE @Borderlands fan and Maya is one of my favorite characters. So I decided to make myself a wallpaper for my PC. . Here is the original image versus the creation I made :) Enjoy! pic.twitter.com/mLsI5wf9Jg"
        ],
        [
         "6",
         "2402",
         "Borderlands",
         "Positive",
         "So I spent a couple of hours doing something for fun... If you don't know that I'm a huge @ Borderlands fan and Maya is one of my favorite characters, I decided to make a wallpaper for my PC.. Here's the original picture compared to the creation I made:) Have fun! pic.twitter.com / mLsI5wf9Jg"
        ],
        [
         "7",
         "2402",
         "Borderlands",
         "Positive",
         "So I spent a few hours doing something for fun... If you don't know I'm a HUGE @ Borderlands fan and Maya is one of my favorite characters."
        ],
        [
         "8",
         "2402",
         "Borderlands",
         "Positive",
         "So I spent a few hours making something for fun. . . If you don't know I am a HUGE RhandlerR fan and Maya is one of my favorite characters. So I decided to make myself a wallpaper for my PC. . Here is the original image versus the creation I made :) Enjoy! pic.twitter.com/mLsI5wf9Jg"
        ],
        [
         "9",
         "2402",
         "Borderlands",
         "Positive",
         "2010 So I spent a few hours making something for fun. . . If you don't know I am a HUGE RhandlerR fan and Maya is one of my favorite characters. So I decided to make myself a wallpaper for my PC. . Here is the original image versus the creation I made :) Enjoy! pic.twitter.com/mLsI5wf9Jg"
        ],
        [
         "10",
         "2402",
         "Borderlands",
         "Positive",
         "was"
        ],
        [
         "11",
         "2403",
         "Borderlands",
         "Neutral",
         "Rock-Hard La Varlope, RARE & POWERFUL, HANDSOME JACKPOT, Borderlands 3 (Xbox) dlvr.it/RMTrgF  "
        ],
        [
         "12",
         "2403",
         "Borderlands",
         "Neutral",
         "Rock-Hard La Varlope, RARE & POWERFUL, HANDSOME JACKPOT, Borderlands 3 (Xbox) dlvr.it / RMTrgF"
        ],
        [
         "13",
         "2403",
         "Borderlands",
         "Neutral",
         "Rock-Hard La Varlope, RARE & POWERFUL, HANDSOME JACKPOT, Borderlands 3 (Xbox) dfr.it / RMTrgF"
        ],
        [
         "14",
         "2403",
         "Borderlands",
         "Neutral",
         "Rock-Hard La Vita, RARE BUT POWERFUL, HANDSOME JACKPOT, Borderlands 1 (Xbox) dlvr.it/RMTrgF"
        ],
        [
         "15",
         "2403",
         "Borderlands",
         "Neutral",
         "Live Rock - Hard music La la Varlope, RARE & the POWERFUL, Live HANDSOME i JACKPOT, Borderlands 3 ( Sega Xbox ) dlvr. From it / e RMTrgF"
        ],
        [
         "16",
         "2403",
         "Borderlands",
         "Neutral",
         "I-Hard like me, RARE LONDON DE, HANDSOME 2011, Borderlands 3 (Xbox) dlvr.it/RMTrgF"
        ],
        [
         "17",
         "2404",
         "Borderlands",
         "Positive",
         "that was the first borderlands session in a long time where i actually had a really satisfying combat experience. i got some really good kills"
        ],
        [
         "18",
         "2404",
         "Borderlands",
         "Positive",
         "this was the first Borderlands session in a long time where i actually had a really satisfying fighting experience. i got some really good kills"
        ],
        [
         "19",
         "2404",
         "Borderlands",
         "Positive",
         "that was the first borderlands session in a long time where i actually had a really satisfying combat experience. i got some really good kills"
        ],
        [
         "20",
         "2404",
         "Borderlands",
         "Positive",
         "that was the first borderlands session in a long time where i actually enjoyed a really satisfying combat experience. i got some rather good kills"
        ],
        [
         "21",
         "2404",
         "Borderlands",
         "Positive",
         "that I was the first real borderlands session in a nice long wait time where i actually had a really satisfying combat experience. and i got some really good kills"
        ],
        [
         "22",
         "2404",
         "Borderlands",
         "Positive",
         "that was the first borderlands session in a hot row where i actually had a really bad combat experience. i did some really good kills"
        ],
        [
         "23",
         "2405",
         "Borderlands",
         "Negative",
         "the biggest dissappoinment in my life came out a year ago fuck borderlands 3"
        ],
        [
         "24",
         "2405",
         "Borderlands",
         "Negative",
         "The biggest disappointment of my life came a year ago."
        ],
        [
         "25",
         "2405",
         "Borderlands",
         "Negative",
         "The biggest disappointment of my life came a year ago."
        ],
        [
         "26",
         "2405",
         "Borderlands",
         "Negative",
         "the biggest dissappoinment in my life coming out a year ago fuck borderlands 3"
        ],
        [
         "27",
         "2405",
         "Borderlands",
         "Negative",
         "For the biggest male dissappoinment in my life came hanging out a year time ago fuck borderlands 3"
        ],
        [
         "28",
         "2405",
         "Borderlands",
         "Negative",
         "the biggest dissappoinment in my life came back last year ago fuck borderlands last"
        ],
        [
         "29",
         "2406",
         "Borderlands",
         "Positive",
         "WE FINISHED BORDERLANDS 3 FINALLY YAS! Thank you for hanging out everyone! It was fun. I will try to stream tomorrow but if not I might so some IRL streams while awayu. We shall see. Thank you so much for the raids @mompou_mumpow @MegaMagwitch and @KfdMitch."
        ],
        [
         "30",
         "2406",
         "Borderlands",
         "Positive",
         "WE FINALLY FINALLY FIND BORDERLANDS 3 YES! Thank you all for hanging out! It was fun. I'll try to stream tomorrow, but if not, maybe some IRL streams. We'll see. Thanks for the raids @ mompou _ mumpow @ MegaMagwitch and @ KfdMitch."
        ],
        [
         "31",
         "2406",
         "Borderlands",
         "Positive",
         "Thank you for hanging up everyone! It was fun. I'll try to get a haircut tomorrow, but if it wasn't for me, some IRL streams would still be in Hawaii. We'll see. Thank you so much for the @ mompou _ mumpow @ MegaMagwife and @ fendMitch raids."
        ],
        [
         "32",
         "2406",
         "Borderlands",
         "Positive",
         "WE FINISHED BORDERLANDS 3 UPDATE YAS! Thank you for hanging out guys! It was fun. I will try to stream and even if not I might so some IRL streams while awayu. We shall go. Thank you so much for the raids @mompou_mumpow @MegaMagwitch and Hope."
        ],
        [
         "33",
         "2406",
         "Borderlands",
         "Positive",
         "WE FINISHED BORDERLANDS 3 AND FINALLY YAS! Thank you everyone for hanging out everyone! It was fun. I will try to make stream tomorrow but if not I might make so some IRL streams while awayu. 10 We never shall see. Thank you both so... much for the raids @mompou_mumpow or @MegaMagwitch and 4 @KfdMitch."
        ],
        [
         "34",
         "2406",
         "Borderlands",
         "Positive",
         "WE FINISHED BORDERLANDS 3 FINALLY YAS! Hey you for hanging out so! It was fun. I will try that stream tomorrow and if not I might use some IRL streams from awayu. We shall see. Thank you so much how many raids @mompou_mumpow did and their."
        ],
        [
         "35",
         "2407",
         "Borderlands",
         "Negative",
         "Man Gearbox really needs to fix this dissapointing drops in the new Borderlands 3 DLC cant be fine to farm bosses on Mayhem 10 to get 1 legendary drop while anywhere else i get 6-10 drops. . Really sucks alot"
        ],
        [
         "36",
         "2407",
         "Borderlands",
         "Negative",
         "Man Gearbox really needs to fix these disappointing drops in the new Borderlands 3 DLC for farm bosses on Mayhem 10 to get a legendary drop, while I get 6-10 drops elsewhere."
        ],
        [
         "37",
         "2407",
         "Borderlands",
         "Negative",
         "Man Gearbox really needs to fix this disssapointing drops in the new Borderlands 3 DLC cant be fine to farm bosses on Mayhem 10 to get 1 legendary drop while elsewhere i get 6-10 drops... Really sucks alot"
        ],
        [
         "38",
         "2407",
         "Borderlands",
         "Negative",
         "Man Bethesda really needs to fix this dissapointing drops and the new Borderlands 3 It cant be fine to farm bosses on Mayhem 10 to get 1 legendary drop while anywhere else i get 6-10 drops.. Really sucks..."
        ],
        [
         "39",
         "2407",
         "Borderlands",
         "Negative",
         "Man Gearbox really needs to fix this dissapointing drops in the completely new Borderlands 3 Days DLC i cant e be fine having to be farm bosses on Mayhem 10 to e get 1 legendary foot drop while anywhere else i get 6 - 10 drops.. It Really sucks to alot"
        ],
        [
         "40",
         "2407",
         "Borderlands",
         "Negative",
         "<unk> Gearbox really time to fix this 10 drops in the new Borderlands 3 DLC or be fine to force bosses on Mayhem 10 to get a legendary drop while everyone else i get 6-10 drops.. Really needs alot"
        ],
        [
         "41",
         "2408",
         "Borderlands",
         "Neutral",
         "Check out this epic streamer!.  "
        ],
        [
         "42",
         "2408",
         "Borderlands",
         "Neutral",
         "Check out this epic streamer!."
        ],
        [
         "43",
         "2408",
         "Borderlands",
         "Neutral",
         "Watch this epic striptease!."
        ],
        [
         "44",
         "2408",
         "Borderlands",
         "Neutral",
         "Check out our epic streamer!."
        ],
        [
         "45",
         "2408",
         "Borderlands",
         "Neutral",
         "Check out this big epic streamer!."
        ],
        [
         "46",
         "2408",
         "Borderlands",
         "Neutral",
         "Check<unk> this epic streamer!."
        ],
        [
         "47",
         "2409",
         "Borderlands",
         "Neutral",
         "Blaming Sight for Tardiness! A little bit of borderlands. I got called in early for work tomorrow so I can't make up time. Sorry my loves .  twitch.tv/punnisenpai"
        ],
        [
         "48",
         "2409",
         "Borderlands",
         "Neutral",
         "A bit of borderland. I was called to work tomorrow morning, so I can't catch up. Sorry, my love. twitch.tv / punnisenpai"
        ],
        [
         "49",
         "2409",
         "Borderlands",
         "Neutral",
         "Guilty of sobriety! A bit of a borderline. I was called to work early tomorrow, so I can't catch up."
        ]
       ],
       "shape": {
        "columns": 4,
        "rows": 60981
       }
      },
      "text/html": [
       "<div>\n",
       "<style scoped>\n",
       "    .dataframe tbody tr th:only-of-type {\n",
       "        vertical-align: middle;\n",
       "    }\n",
       "\n",
       "    .dataframe tbody tr th {\n",
       "        vertical-align: top;\n",
       "    }\n",
       "\n",
       "    .dataframe thead th {\n",
       "        text-align: right;\n",
       "    }\n",
       "</style>\n",
       "<table border=\"1\" class=\"dataframe\">\n",
       "  <thead>\n",
       "    <tr style=\"text-align: right;\">\n",
       "      <th></th>\n",
       "      <th>Tweet ID</th>\n",
       "      <th>Entity</th>\n",
       "      <th>Sentiment</th>\n",
       "      <th>Tweet content</th>\n",
       "    </tr>\n",
       "  </thead>\n",
       "  <tbody>\n",
       "    <tr>\n",
       "      <th>0</th>\n",
       "      <td>2401</td>\n",
       "      <td>Borderlands</td>\n",
       "      <td>Positive</td>\n",
       "      <td>I am coming to the borders and I will kill you...</td>\n",
       "    </tr>\n",
       "    <tr>\n",
       "      <th>1</th>\n",
       "      <td>2401</td>\n",
       "      <td>Borderlands</td>\n",
       "      <td>Positive</td>\n",
       "      <td>im getting on borderlands and i will kill you ...</td>\n",
       "    </tr>\n",
       "    <tr>\n",
       "      <th>2</th>\n",
       "      <td>2401</td>\n",
       "      <td>Borderlands</td>\n",
       "      <td>Positive</td>\n",
       "      <td>im coming on borderlands and i will murder you...</td>\n",
       "    </tr>\n",
       "    <tr>\n",
       "      <th>3</th>\n",
       "      <td>2401</td>\n",
       "      <td>Borderlands</td>\n",
       "      <td>Positive</td>\n",
       "      <td>im getting on borderlands 2 and i will murder ...</td>\n",
       "    </tr>\n",
       "    <tr>\n",
       "      <th>4</th>\n",
       "      <td>2401</td>\n",
       "      <td>Borderlands</td>\n",
       "      <td>Positive</td>\n",
       "      <td>im getting into borderlands and i can murder y...</td>\n",
       "    </tr>\n",
       "    <tr>\n",
       "      <th>...</th>\n",
       "      <td>...</td>\n",
       "      <td>...</td>\n",
       "      <td>...</td>\n",
       "      <td>...</td>\n",
       "    </tr>\n",
       "    <tr>\n",
       "      <th>74676</th>\n",
       "      <td>9200</td>\n",
       "      <td>Nvidia</td>\n",
       "      <td>Positive</td>\n",
       "      <td>Just realized that the Windows partition of my...</td>\n",
       "    </tr>\n",
       "    <tr>\n",
       "      <th>74677</th>\n",
       "      <td>9200</td>\n",
       "      <td>Nvidia</td>\n",
       "      <td>Positive</td>\n",
       "      <td>Just realized that my Mac window partition is ...</td>\n",
       "    </tr>\n",
       "    <tr>\n",
       "      <th>74678</th>\n",
       "      <td>9200</td>\n",
       "      <td>Nvidia</td>\n",
       "      <td>Positive</td>\n",
       "      <td>Just realized the windows partition of my Mac ...</td>\n",
       "    </tr>\n",
       "    <tr>\n",
       "      <th>74679</th>\n",
       "      <td>9200</td>\n",
       "      <td>Nvidia</td>\n",
       "      <td>Positive</td>\n",
       "      <td>Just realized between the windows partition of...</td>\n",
       "    </tr>\n",
       "    <tr>\n",
       "      <th>74680</th>\n",
       "      <td>9200</td>\n",
       "      <td>Nvidia</td>\n",
       "      <td>Positive</td>\n",
       "      <td>Just like the windows partition of my Mac is l...</td>\n",
       "    </tr>\n",
       "  </tbody>\n",
       "</table>\n",
       "<p>60981 rows × 4 columns</p>\n",
       "</div>"
      ],
      "text/plain": [
       "       Tweet ID       Entity Sentiment  \\\n",
       "0          2401  Borderlands  Positive   \n",
       "1          2401  Borderlands  Positive   \n",
       "2          2401  Borderlands  Positive   \n",
       "3          2401  Borderlands  Positive   \n",
       "4          2401  Borderlands  Positive   \n",
       "...         ...          ...       ...   \n",
       "74676      9200       Nvidia  Positive   \n",
       "74677      9200       Nvidia  Positive   \n",
       "74678      9200       Nvidia  Positive   \n",
       "74679      9200       Nvidia  Positive   \n",
       "74680      9200       Nvidia  Positive   \n",
       "\n",
       "                                           Tweet content  \n",
       "0      I am coming to the borders and I will kill you...  \n",
       "1      im getting on borderlands and i will kill you ...  \n",
       "2      im coming on borderlands and i will murder you...  \n",
       "3      im getting on borderlands 2 and i will murder ...  \n",
       "4      im getting into borderlands and i can murder y...  \n",
       "...                                                  ...  \n",
       "74676  Just realized that the Windows partition of my...  \n",
       "74677  Just realized that my Mac window partition is ...  \n",
       "74678  Just realized the windows partition of my Mac ...  \n",
       "74679  Just realized between the windows partition of...  \n",
       "74680  Just like the windows partition of my Mac is l...  \n",
       "\n",
       "[60981 rows x 4 columns]"
      ]
     },
     "execution_count": 38,
     "metadata": {},
     "output_type": "execute_result"
    }
   ],
   "source": [
    "df = df[~df['Tweet content'].str.isspace()]\n",
    "df"
   ]
  },
  {
   "cell_type": "markdown",
   "id": "facc424d",
   "metadata": {},
   "source": [
    "Saving the cleaned training data"
   ]
  },
  {
   "cell_type": "code",
   "execution_count": 39,
   "id": "9df667c6",
   "metadata": {},
   "outputs": [],
   "source": [
    "#df.to_csv('twitter_training_cleaned.csv')"
   ]
  },
  {
   "cell_type": "markdown",
   "id": "b9e9ab4b",
   "metadata": {},
   "source": [
    "**Now one will need to do these same cleaning and arrangement tasks on the validation set named df1**"
   ]
  },
  {
   "cell_type": "code",
   "execution_count": 40,
   "id": "e422d87f",
   "metadata": {},
   "outputs": [],
   "source": [
    "df1= pd.read_csv('/workspaces/Twitter-Sentiment-Analysis---NLP-with-generic-machine-learning/twitter_validation.csv')"
   ]
  },
  {
   "cell_type": "code",
   "execution_count": 41,
   "id": "ace4d8ef",
   "metadata": {},
   "outputs": [
    {
     "data": {
      "application/vnd.microsoft.datawrangler.viewer.v0+json": {
       "columns": [
        {
         "name": "index",
         "rawType": "int64",
         "type": "integer"
        },
        {
         "name": "3364",
         "rawType": "int64",
         "type": "integer"
        },
        {
         "name": "Facebook",
         "rawType": "object",
         "type": "string"
        },
        {
         "name": "Irrelevant",
         "rawType": "object",
         "type": "string"
        },
        {
         "name": "I mentioned on Facebook that I was struggling for motivation to go for a run the other day, which has been translated by Tom’s great auntie as ‘Hayley can’t get out of bed’ and told to his grandma, who now thinks I’m a lazy, terrible person 🤣",
         "rawType": "object",
         "type": "string"
        }
       ],
       "ref": "474d95bf-e31c-4588-8070-523841da05b1",
       "rows": [
        [
         "0",
         "352",
         "Amazon",
         "Neutral",
         "BBC News - Amazon boss Jeff Bezos rejects claims company acted like a 'drug dealer' bbc.co.uk/news/av/busine…"
        ],
        [
         "1",
         "8312",
         "Microsoft",
         "Negative",
         "@Microsoft Why do I pay for WORD when it functions so poorly on my @SamsungUS Chromebook? 🙄"
        ],
        [
         "2",
         "4371",
         "CS-GO",
         "Negative",
         "CSGO matchmaking is so full of closet hacking, it's a truly awful game."
        ],
        [
         "3",
         "4433",
         "Google",
         "Neutral",
         "Now the President is slapping Americans in the face that he really did commit an unlawful act after his  acquittal! From Discover on Google vanityfair.com/news/2020/02/t…"
        ],
        [
         "4",
         "6273",
         "FIFA",
         "Negative",
         "Hi @EAHelp I’ve had Madeleine McCann in my cellar for the past 13 years and the little sneaky thing just escaped whilst I was loading up some fifa points, she took my card and I’m having to use my paypal account but it isn’t working, can you help me resolve it please?"
        ],
        [
         "5",
         "7925",
         "MaddenNFL",
         "Positive",
         "Thank you @EAMaddenNFL!! \n\nNew TE Austin Hooper in the ORANGE & BROWN!! \n\n#Browns | @AustinHooper18 \n\n pic.twitter.com/GRg4xzFKOn"
        ],
        [
         "6",
         "11332",
         "TomClancysRainbowSix",
         "Positive",
         "Rocket League, Sea of Thieves or Rainbow Six: Siege🤔? I love playing all three on stream but which is the best? #stream #twitch #RocketLeague #SeaOfThieves #RainbowSixSiege #follow"
        ],
        [
         "7",
         "1107",
         "AssassinsCreed",
         "Positive",
         "my ass still knee-deep in Assassins Creed Odyssey with no way out anytime soon lmao"
        ],
        [
         "8",
         "2069",
         "CallOfDuty",
         "Negative",
         "FIX IT JESUS ! Please FIX IT ! What In the world is going on here.  @PlayStation @AskPlayStation @Playstationsup @Treyarch @CallofDuty negative 345 silver wolf error code pic.twitter.com/ziRyhrf59Q"
        ],
        [
         "9",
         "3185",
         "Dota2",
         "Positive",
         "The professional dota 2 scene is fucking exploding and I completely welcome it.\n\nGet the garbage out."
        ],
        [
         "10",
         "1172",
         "AssassinsCreed",
         "Positive",
         "Itching to assassinate \n\n#TCCGif #AssassinsCreedBlackFlag #AssassinsCreed #TheCapturedCollective pic.twitter.com/vv8MOGtCjw"
        ],
        [
         "11",
         "11783",
         "Verizon",
         "Negative",
         "@FredTJoseph hey fred, Comcast cut the cable and now Verizon stays calling me to shut that too pic.twitter.com/CPWSrmueDg"
        ],
        [
         "12",
         "4286",
         "CS-GO",
         "Neutral",
         "CSGO WIngman (Im Silver dont bully) twitch.tv/lprezh"
        ],
        [
         "13",
         "8431",
         "NBA2K",
         "Negative",
         "@NBA2K game sucks... down by 2 with 38 seconds left and my team intentionally fouls"
        ],
        [
         "14",
         "9135",
         "Nvidia",
         "Positive",
         "Congrats to the NVIDIA NeMo team for the 1.0.0 release candidate!\nReally excited to see NeMo embracing Hydra as the way to take control over the configuration madness that is machine learning! :)"
        ],
        [
         "15",
         "4822",
         "GrandTheftAuto(GTA)",
         "Positive",
         "yeah and it’s fun"
        ],
        [
         "16",
         "3068",
         "Dota2",
         "Negative",
         "fuck my life 😆"
        ],
        [
         "17",
         "10537",
         "RedDeadRedemption(RDR)",
         "Positive",
         "happy birthday red dead redemption that shit changed my life what a crazy experience"
        ],
        [
         "18",
         "8056",
         "Microsoft",
         "Negative",
         "What does that say about Microsoft hardware & software security - The Man gets hacked"
        ],
        [
         "19",
         "2131",
         "CallOfDuty",
         "Negative",
         "The new @CallofDuty for ps5 is 🔥🔥🔥🔥\nOh God 😭😍"
        ],
        [
         "20",
         "5450",
         "Hearthstone",
         "Neutral",
         "Anyone that plays a bad luck albatross deck in hearthstone is a literal cop. \n\nFucking fun police. pic.twitter.com/jY6TRq351e"
        ],
        [
         "21",
         "2286",
         "CallOfDuty",
         "Irrelevant",
         "Call of duty warzone (livestream) w/ subs #Warzone youtu.be/7BhH_pjOMU4 via @YouTube Please come watch this AMAZING Call of Duty Warzone stream from this AMAZING streamer! It'd be really, really nice to give him some views and likes as well! 😀 #COD #CallofDuty #Warzone"
        ],
        [
         "22",
         "4038",
         "CS-GO",
         "Negative",
         "Finally played Rainbow Six Siege for the first time... I have to admit, I prefer it over pulling my hair out in CSGO any day."
        ],
        [
         "23",
         "526",
         "ApexLegends",
         "Neutral",
         "Umm @PlayApex  when I died it said Bug This pic.twitter.com/bzMHzbadOF"
        ],
        [
         "24",
         "8977",
         "Nvidia",
         "Neutral",
         "#gtc20 -  nice, motivational, and very accessible Nvidia/AI product fair + related tech talks\nnvidia.com/en-us/gtc/keyn…\ninteresting interaction/social activities: braindates, dinner with strangers, ...  and free attendance for universities: reg.rainfocus.com/flow/nvidia/gt…"
        ],
        [
         "25",
         "11995",
         "Verizon",
         "Negative",
         "Yo! @Verizon just added a $120 'fee' to my account under #COVID19 protection without my permission and I am forced to pay it! Check your bills carefully!"
        ],
        [
         "26",
         "9449",
         "Overwatch",
         "Irrelevant",
         "They might not be the last team that has to make this difficult decision. #update #overwatchleague #nyxl #overwatch #overwatch2 #blizzard #games #lockdown pic.twitter.com/dI1HTl4mcV"
        ],
        [
         "27",
         "10193",
         "PlayerUnknownsBattlegrounds(PUBG)",
         "Irrelevant",
         "Best squad yet#pubg #pubgmobile #pubgkenya instagram.com/p/B-Obt_eAA4f/…"
        ],
        [
         "28",
         "2419",
         "Borderlands",
         "Negative",
         "@Borderlands how do I submit a complaint? Your CEO isn't paying his staff their bonuses."
        ],
        [
         "29",
         "8857",
         "Nvidia",
         "Positive",
         "Watching NVIDIA position itself as not just a leading hardware manufacturer but also providing meaningful software to consumers is a remarkable thing of beauty. What an incredibly lead company with clear focus and goals. Well done @nvidia."
        ],
        [
         "30",
         "9704",
         "PlayStation5(PS5)",
         "Positive",
         "I don’t see how this looks like as Xbox controller but y’all will say anything. Anyway this is fire."
        ],
        [
         "31",
         "7024",
         "johnson&johnson",
         "Negative",
         "Johnson & Johnson, knowingly sold baby powder containing asbestos for decades and are now tasked with producing #COVID19 #vaccine... along with corporate criminals #Glaxosmithkline - who received the 2nd largest fine in corporate history for their various crimes. Trust them? 😳"
        ],
        [
         "32",
         "8842",
         "Nvidia",
         "Positive",
         "The things I would do for a @nvidia 3090... unspeakable! 🧐"
        ],
        [
         "33",
         "6650",
         "Fortnite",
         "Negative",
         "Fortnite is running like ass.. fps drops everywhere wtf?"
        ],
        [
         "34",
         "2337",
         "CallOfDuty",
         "Neutral",
         "Great play dude , what a good optic for the mk2 Carbine too 👌"
        ],
        [
         "35",
         "10589",
         "RedDeadRedemption(RDR)",
         "Neutral",
         "I got the horses in the back #PS4live (Red Dead Redemption 2)  live at youtu.be/9BVKh67OaEI"
        ],
        [
         "36",
         "12997",
         "Xbox(Xseries)",
         "Irrelevant",
         "This is a really disappointing move by Remedy. Bought Control day one with the season pass but will only get the PS5 upgrade if I rebuy everything again repackaged in the Ultimate Edition??"
        ],
        [
         "37",
         "807",
         "AssassinsCreed",
         "Positive",
         "Just finished Assassins Creed Odyssey through @Shadow_Official @Shadow_NA from the beginning to the end. Thanks for the amazing gaming experience on your service 👏"
        ],
        [
         "38",
         "11229",
         "TomClancysRainbowSix",
         "Neutral",
         "Solo Q and this freak is spinning as fast as he can to lower the FPS. \nI thought they took this bs out\n\n@Rainbow6Game https://t.co/mlvHMu4qeZ"
        ],
        [
         "39",
         "2366",
         "CallOfDuty",
         "Positive",
         "Our eldest has spent so long playing this new Call of Duty game, I’m not convinced he even knows what day it is, let alone how long lockdown has lasted. I’d normally object, but I think I’d rather deal with that, than him being frustrated about being stuck at home."
        ],
        [
         "40",
         "9268",
         "Overwatch",
         "Neutral",
         "//The Corruption and Knocking up of Overwatch Babes is a serious Mood atm... pic.twitter.com/QNy4kmgBLV"
        ],
        [
         "41",
         "2216",
         "CallOfDuty",
         "Neutral",
         "@PlayCODMobile @M2Games2 i love the call of duty, more unfortunately i'm having a lot of audio bug, every time i'm playing the BR mode of the game, the audio just stops, then i have to close it and open dnv the device i'm using is iOS."
        ],
        [
         "42",
         "316",
         "Amazon",
         "Neutral",
         "Amazon stops accepting new online grocery customers as it cuts hours at Whole Foods stores dailymail.co.uk/news/article-8… https://t.co/jn7OMaLq3n"
        ],
        [
         "43",
         "1985",
         "CallOfDutyBlackopsColdWar",
         "Positive",
         "Not gonna lie that Black Ops cold war trailer was probably the best COD teaser I have ever seen"
        ],
        [
         "44",
         "11378",
         "TomClancysRainbowSix",
         "Neutral",
         "MELUSI 4k are you shocked! @Justhoneybadger @simmyster06 @walkerpool @Mdassassin007 @OWahid65 #Rainbowsixsiege pic.twitter.com/0ACuQjtvGL"
        ],
        [
         "45",
         "5207",
         "Hearthstone",
         "Negative",
         "Never popped the ice block #Hearthstone pic.twitter.com/BCsZlhJHPF"
        ],
        [
         "46",
         "7048",
         "johnson&johnson",
         "Negative",
         "You mean the same Johnson & Johnson that suppressed reports of asbestos contamination in their talc products for decades??? Wonder how many died??? And Birx says; \"Randomized controlled studies show NO evidence of improved outcome with HCQ.\" LIAR???\nyoutu.be/77TMszubRU4"
        ],
        [
         "47",
         "2274",
         "CallOfDuty",
         "Negative",
         "I’m addicted to call of duty mobile😅"
        ],
        [
         "48",
         "13197",
         "Xbox(Xseries)",
         "Neutral",
         "This could go very well...or horribly wrong."
        ],
        [
         "49",
         "9488",
         "Overwatch",
         "Positive",
         "So yesterday, I decided to go back to Overwatch... and I forgot just how much I loved playing it. Now all I want to do is play it and do nothing else >.< I mean, the event is on atm.. gotta get me that Pharah skin as I have Anas already! 💛"
        ]
       ],
       "shape": {
        "columns": 4,
        "rows": 999
       }
      },
      "text/html": [
       "<div>\n",
       "<style scoped>\n",
       "    .dataframe tbody tr th:only-of-type {\n",
       "        vertical-align: middle;\n",
       "    }\n",
       "\n",
       "    .dataframe tbody tr th {\n",
       "        vertical-align: top;\n",
       "    }\n",
       "\n",
       "    .dataframe thead th {\n",
       "        text-align: right;\n",
       "    }\n",
       "</style>\n",
       "<table border=\"1\" class=\"dataframe\">\n",
       "  <thead>\n",
       "    <tr style=\"text-align: right;\">\n",
       "      <th></th>\n",
       "      <th>3364</th>\n",
       "      <th>Facebook</th>\n",
       "      <th>Irrelevant</th>\n",
       "      <th>I mentioned on Facebook that I was struggling for motivation to go for a run the other day, which has been translated by Tom’s great auntie as ‘Hayley can’t get out of bed’ and told to his grandma, who now thinks I’m a lazy, terrible person 🤣</th>\n",
       "    </tr>\n",
       "  </thead>\n",
       "  <tbody>\n",
       "    <tr>\n",
       "      <th>0</th>\n",
       "      <td>352</td>\n",
       "      <td>Amazon</td>\n",
       "      <td>Neutral</td>\n",
       "      <td>BBC News - Amazon boss Jeff Bezos rejects clai...</td>\n",
       "    </tr>\n",
       "    <tr>\n",
       "      <th>1</th>\n",
       "      <td>8312</td>\n",
       "      <td>Microsoft</td>\n",
       "      <td>Negative</td>\n",
       "      <td>@Microsoft Why do I pay for WORD when it funct...</td>\n",
       "    </tr>\n",
       "    <tr>\n",
       "      <th>2</th>\n",
       "      <td>4371</td>\n",
       "      <td>CS-GO</td>\n",
       "      <td>Negative</td>\n",
       "      <td>CSGO matchmaking is so full of closet hacking,...</td>\n",
       "    </tr>\n",
       "    <tr>\n",
       "      <th>3</th>\n",
       "      <td>4433</td>\n",
       "      <td>Google</td>\n",
       "      <td>Neutral</td>\n",
       "      <td>Now the President is slapping Americans in the...</td>\n",
       "    </tr>\n",
       "    <tr>\n",
       "      <th>4</th>\n",
       "      <td>6273</td>\n",
       "      <td>FIFA</td>\n",
       "      <td>Negative</td>\n",
       "      <td>Hi @EAHelp I’ve had Madeleine McCann in my cel...</td>\n",
       "    </tr>\n",
       "    <tr>\n",
       "      <th>...</th>\n",
       "      <td>...</td>\n",
       "      <td>...</td>\n",
       "      <td>...</td>\n",
       "      <td>...</td>\n",
       "    </tr>\n",
       "    <tr>\n",
       "      <th>994</th>\n",
       "      <td>4891</td>\n",
       "      <td>GrandTheftAuto(GTA)</td>\n",
       "      <td>Irrelevant</td>\n",
       "      <td>⭐️ Toronto is the arts and culture capital of ...</td>\n",
       "    </tr>\n",
       "    <tr>\n",
       "      <th>995</th>\n",
       "      <td>4359</td>\n",
       "      <td>CS-GO</td>\n",
       "      <td>Irrelevant</td>\n",
       "      <td>tHIS IS ACTUALLY A GOOD MOVE TOT BRING MORE VI...</td>\n",
       "    </tr>\n",
       "    <tr>\n",
       "      <th>996</th>\n",
       "      <td>2652</td>\n",
       "      <td>Borderlands</td>\n",
       "      <td>Positive</td>\n",
       "      <td>Today sucked so it’s time to drink wine n play...</td>\n",
       "    </tr>\n",
       "    <tr>\n",
       "      <th>997</th>\n",
       "      <td>8069</td>\n",
       "      <td>Microsoft</td>\n",
       "      <td>Positive</td>\n",
       "      <td>Bought a fraction of Microsoft today. Small wins.</td>\n",
       "    </tr>\n",
       "    <tr>\n",
       "      <th>998</th>\n",
       "      <td>6960</td>\n",
       "      <td>johnson&amp;johnson</td>\n",
       "      <td>Neutral</td>\n",
       "      <td>Johnson &amp; Johnson to stop selling talc baby po...</td>\n",
       "    </tr>\n",
       "  </tbody>\n",
       "</table>\n",
       "<p>999 rows × 4 columns</p>\n",
       "</div>"
      ],
      "text/plain": [
       "     3364             Facebook  Irrelevant  \\\n",
       "0     352               Amazon     Neutral   \n",
       "1    8312            Microsoft    Negative   \n",
       "2    4371                CS-GO    Negative   \n",
       "3    4433               Google     Neutral   \n",
       "4    6273                 FIFA    Negative   \n",
       "..    ...                  ...         ...   \n",
       "994  4891  GrandTheftAuto(GTA)  Irrelevant   \n",
       "995  4359                CS-GO  Irrelevant   \n",
       "996  2652          Borderlands    Positive   \n",
       "997  8069            Microsoft    Positive   \n",
       "998  6960      johnson&johnson     Neutral   \n",
       "\n",
       "    I mentioned on Facebook that I was struggling for motivation to go for a run the other day, which has been translated by Tom’s great auntie as ‘Hayley can’t get out of bed’ and told to his grandma, who now thinks I’m a lazy, terrible person 🤣  \n",
       "0    BBC News - Amazon boss Jeff Bezos rejects clai...                                                                                                                                                                                                  \n",
       "1    @Microsoft Why do I pay for WORD when it funct...                                                                                                                                                                                                  \n",
       "2    CSGO matchmaking is so full of closet hacking,...                                                                                                                                                                                                  \n",
       "3    Now the President is slapping Americans in the...                                                                                                                                                                                                  \n",
       "4    Hi @EAHelp I’ve had Madeleine McCann in my cel...                                                                                                                                                                                                  \n",
       "..                                                 ...                                                                                                                                                                                                  \n",
       "994  ⭐️ Toronto is the arts and culture capital of ...                                                                                                                                                                                                  \n",
       "995  tHIS IS ACTUALLY A GOOD MOVE TOT BRING MORE VI...                                                                                                                                                                                                  \n",
       "996  Today sucked so it’s time to drink wine n play...                                                                                                                                                                                                  \n",
       "997  Bought a fraction of Microsoft today. Small wins.                                                                                                                                                                                                  \n",
       "998  Johnson & Johnson to stop selling talc baby po...                                                                                                                                                                                                  \n",
       "\n",
       "[999 rows x 4 columns]"
      ]
     },
     "execution_count": 41,
     "metadata": {},
     "output_type": "execute_result"
    }
   ],
   "source": [
    "df1"
   ]
  },
  {
   "cell_type": "markdown",
   "id": "5fc31278",
   "metadata": {},
   "source": [
    "Renaming the Columns correctly "
   ]
  },
  {
   "cell_type": "code",
   "execution_count": 42,
   "id": "11da9a0c",
   "metadata": {},
   "outputs": [],
   "source": [
    "df1= df1.rename(columns={'3364': 'Tweet ID', 'Facebook':'Entity','Irrelevant':'Sentiment', \"I mentioned on Facebook that I was struggling for motivation to go for a run the other day, which has been translated by Tom’s great auntie as ‘Hayley can’t get out of bed’ and told to his grandma, who now thinks I’m a lazy, terrible person 🤣\":'Tweet content'})"
   ]
  },
  {
   "cell_type": "code",
   "execution_count": 43,
   "id": "58df691f",
   "metadata": {},
   "outputs": [
    {
     "data": {
      "application/vnd.microsoft.datawrangler.viewer.v0+json": {
       "columns": [
        {
         "name": "index",
         "rawType": "int64",
         "type": "integer"
        },
        {
         "name": "Tweet ID",
         "rawType": "int64",
         "type": "integer"
        },
        {
         "name": "Entity",
         "rawType": "object",
         "type": "string"
        },
        {
         "name": "Sentiment",
         "rawType": "object",
         "type": "string"
        },
        {
         "name": "Tweet content",
         "rawType": "object",
         "type": "string"
        }
       ],
       "ref": "dcc8ab8f-649d-48a6-853a-4bbffddb6304",
       "rows": [
        [
         "0",
         "352",
         "Amazon",
         "Neutral",
         "BBC News - Amazon boss Jeff Bezos rejects claims company acted like a 'drug dealer' bbc.co.uk/news/av/busine…"
        ],
        [
         "1",
         "8312",
         "Microsoft",
         "Negative",
         "@Microsoft Why do I pay for WORD when it functions so poorly on my @SamsungUS Chromebook? 🙄"
        ],
        [
         "2",
         "4371",
         "CS-GO",
         "Negative",
         "CSGO matchmaking is so full of closet hacking, it's a truly awful game."
        ],
        [
         "3",
         "4433",
         "Google",
         "Neutral",
         "Now the President is slapping Americans in the face that he really did commit an unlawful act after his  acquittal! From Discover on Google vanityfair.com/news/2020/02/t…"
        ],
        [
         "4",
         "6273",
         "FIFA",
         "Negative",
         "Hi @EAHelp I’ve had Madeleine McCann in my cellar for the past 13 years and the little sneaky thing just escaped whilst I was loading up some fifa points, she took my card and I’m having to use my paypal account but it isn’t working, can you help me resolve it please?"
        ],
        [
         "5",
         "7925",
         "MaddenNFL",
         "Positive",
         "Thank you @EAMaddenNFL!! \n\nNew TE Austin Hooper in the ORANGE & BROWN!! \n\n#Browns | @AustinHooper18 \n\n pic.twitter.com/GRg4xzFKOn"
        ],
        [
         "6",
         "11332",
         "TomClancysRainbowSix",
         "Positive",
         "Rocket League, Sea of Thieves or Rainbow Six: Siege🤔? I love playing all three on stream but which is the best? #stream #twitch #RocketLeague #SeaOfThieves #RainbowSixSiege #follow"
        ],
        [
         "7",
         "1107",
         "AssassinsCreed",
         "Positive",
         "my ass still knee-deep in Assassins Creed Odyssey with no way out anytime soon lmao"
        ],
        [
         "8",
         "2069",
         "CallOfDuty",
         "Negative",
         "FIX IT JESUS ! Please FIX IT ! What In the world is going on here.  @PlayStation @AskPlayStation @Playstationsup @Treyarch @CallofDuty negative 345 silver wolf error code pic.twitter.com/ziRyhrf59Q"
        ],
        [
         "9",
         "3185",
         "Dota2",
         "Positive",
         "The professional dota 2 scene is fucking exploding and I completely welcome it.\n\nGet the garbage out."
        ],
        [
         "10",
         "1172",
         "AssassinsCreed",
         "Positive",
         "Itching to assassinate \n\n#TCCGif #AssassinsCreedBlackFlag #AssassinsCreed #TheCapturedCollective pic.twitter.com/vv8MOGtCjw"
        ],
        [
         "11",
         "11783",
         "Verizon",
         "Negative",
         "@FredTJoseph hey fred, Comcast cut the cable and now Verizon stays calling me to shut that too pic.twitter.com/CPWSrmueDg"
        ],
        [
         "12",
         "4286",
         "CS-GO",
         "Neutral",
         "CSGO WIngman (Im Silver dont bully) twitch.tv/lprezh"
        ],
        [
         "13",
         "8431",
         "NBA2K",
         "Negative",
         "@NBA2K game sucks... down by 2 with 38 seconds left and my team intentionally fouls"
        ],
        [
         "14",
         "9135",
         "Nvidia",
         "Positive",
         "Congrats to the NVIDIA NeMo team for the 1.0.0 release candidate!\nReally excited to see NeMo embracing Hydra as the way to take control over the configuration madness that is machine learning! :)"
        ],
        [
         "15",
         "4822",
         "GrandTheftAuto(GTA)",
         "Positive",
         "yeah and it’s fun"
        ],
        [
         "16",
         "3068",
         "Dota2",
         "Negative",
         "fuck my life 😆"
        ],
        [
         "17",
         "10537",
         "RedDeadRedemption(RDR)",
         "Positive",
         "happy birthday red dead redemption that shit changed my life what a crazy experience"
        ],
        [
         "18",
         "8056",
         "Microsoft",
         "Negative",
         "What does that say about Microsoft hardware & software security - The Man gets hacked"
        ],
        [
         "19",
         "2131",
         "CallOfDuty",
         "Negative",
         "The new @CallofDuty for ps5 is 🔥🔥🔥🔥\nOh God 😭😍"
        ],
        [
         "20",
         "5450",
         "Hearthstone",
         "Neutral",
         "Anyone that plays a bad luck albatross deck in hearthstone is a literal cop. \n\nFucking fun police. pic.twitter.com/jY6TRq351e"
        ],
        [
         "21",
         "2286",
         "CallOfDuty",
         "Irrelevant",
         "Call of duty warzone (livestream) w/ subs #Warzone youtu.be/7BhH_pjOMU4 via @YouTube Please come watch this AMAZING Call of Duty Warzone stream from this AMAZING streamer! It'd be really, really nice to give him some views and likes as well! 😀 #COD #CallofDuty #Warzone"
        ],
        [
         "22",
         "4038",
         "CS-GO",
         "Negative",
         "Finally played Rainbow Six Siege for the first time... I have to admit, I prefer it over pulling my hair out in CSGO any day."
        ],
        [
         "23",
         "526",
         "ApexLegends",
         "Neutral",
         "Umm @PlayApex  when I died it said Bug This pic.twitter.com/bzMHzbadOF"
        ],
        [
         "24",
         "8977",
         "Nvidia",
         "Neutral",
         "#gtc20 -  nice, motivational, and very accessible Nvidia/AI product fair + related tech talks\nnvidia.com/en-us/gtc/keyn…\ninteresting interaction/social activities: braindates, dinner with strangers, ...  and free attendance for universities: reg.rainfocus.com/flow/nvidia/gt…"
        ],
        [
         "25",
         "11995",
         "Verizon",
         "Negative",
         "Yo! @Verizon just added a $120 'fee' to my account under #COVID19 protection without my permission and I am forced to pay it! Check your bills carefully!"
        ],
        [
         "26",
         "9449",
         "Overwatch",
         "Irrelevant",
         "They might not be the last team that has to make this difficult decision. #update #overwatchleague #nyxl #overwatch #overwatch2 #blizzard #games #lockdown pic.twitter.com/dI1HTl4mcV"
        ],
        [
         "27",
         "10193",
         "PlayerUnknownsBattlegrounds(PUBG)",
         "Irrelevant",
         "Best squad yet#pubg #pubgmobile #pubgkenya instagram.com/p/B-Obt_eAA4f/…"
        ],
        [
         "28",
         "2419",
         "Borderlands",
         "Negative",
         "@Borderlands how do I submit a complaint? Your CEO isn't paying his staff their bonuses."
        ],
        [
         "29",
         "8857",
         "Nvidia",
         "Positive",
         "Watching NVIDIA position itself as not just a leading hardware manufacturer but also providing meaningful software to consumers is a remarkable thing of beauty. What an incredibly lead company with clear focus and goals. Well done @nvidia."
        ],
        [
         "30",
         "9704",
         "PlayStation5(PS5)",
         "Positive",
         "I don’t see how this looks like as Xbox controller but y’all will say anything. Anyway this is fire."
        ],
        [
         "31",
         "7024",
         "johnson&johnson",
         "Negative",
         "Johnson & Johnson, knowingly sold baby powder containing asbestos for decades and are now tasked with producing #COVID19 #vaccine... along with corporate criminals #Glaxosmithkline - who received the 2nd largest fine in corporate history for their various crimes. Trust them? 😳"
        ],
        [
         "32",
         "8842",
         "Nvidia",
         "Positive",
         "The things I would do for a @nvidia 3090... unspeakable! 🧐"
        ],
        [
         "33",
         "6650",
         "Fortnite",
         "Negative",
         "Fortnite is running like ass.. fps drops everywhere wtf?"
        ],
        [
         "34",
         "2337",
         "CallOfDuty",
         "Neutral",
         "Great play dude , what a good optic for the mk2 Carbine too 👌"
        ],
        [
         "35",
         "10589",
         "RedDeadRedemption(RDR)",
         "Neutral",
         "I got the horses in the back #PS4live (Red Dead Redemption 2)  live at youtu.be/9BVKh67OaEI"
        ],
        [
         "36",
         "12997",
         "Xbox(Xseries)",
         "Irrelevant",
         "This is a really disappointing move by Remedy. Bought Control day one with the season pass but will only get the PS5 upgrade if I rebuy everything again repackaged in the Ultimate Edition??"
        ],
        [
         "37",
         "807",
         "AssassinsCreed",
         "Positive",
         "Just finished Assassins Creed Odyssey through @Shadow_Official @Shadow_NA from the beginning to the end. Thanks for the amazing gaming experience on your service 👏"
        ],
        [
         "38",
         "11229",
         "TomClancysRainbowSix",
         "Neutral",
         "Solo Q and this freak is spinning as fast as he can to lower the FPS. \nI thought they took this bs out\n\n@Rainbow6Game https://t.co/mlvHMu4qeZ"
        ],
        [
         "39",
         "2366",
         "CallOfDuty",
         "Positive",
         "Our eldest has spent so long playing this new Call of Duty game, I’m not convinced he even knows what day it is, let alone how long lockdown has lasted. I’d normally object, but I think I’d rather deal with that, than him being frustrated about being stuck at home."
        ],
        [
         "40",
         "9268",
         "Overwatch",
         "Neutral",
         "//The Corruption and Knocking up of Overwatch Babes is a serious Mood atm... pic.twitter.com/QNy4kmgBLV"
        ],
        [
         "41",
         "2216",
         "CallOfDuty",
         "Neutral",
         "@PlayCODMobile @M2Games2 i love the call of duty, more unfortunately i'm having a lot of audio bug, every time i'm playing the BR mode of the game, the audio just stops, then i have to close it and open dnv the device i'm using is iOS."
        ],
        [
         "42",
         "316",
         "Amazon",
         "Neutral",
         "Amazon stops accepting new online grocery customers as it cuts hours at Whole Foods stores dailymail.co.uk/news/article-8… https://t.co/jn7OMaLq3n"
        ],
        [
         "43",
         "1985",
         "CallOfDutyBlackopsColdWar",
         "Positive",
         "Not gonna lie that Black Ops cold war trailer was probably the best COD teaser I have ever seen"
        ],
        [
         "44",
         "11378",
         "TomClancysRainbowSix",
         "Neutral",
         "MELUSI 4k are you shocked! @Justhoneybadger @simmyster06 @walkerpool @Mdassassin007 @OWahid65 #Rainbowsixsiege pic.twitter.com/0ACuQjtvGL"
        ],
        [
         "45",
         "5207",
         "Hearthstone",
         "Negative",
         "Never popped the ice block #Hearthstone pic.twitter.com/BCsZlhJHPF"
        ],
        [
         "46",
         "7048",
         "johnson&johnson",
         "Negative",
         "You mean the same Johnson & Johnson that suppressed reports of asbestos contamination in their talc products for decades??? Wonder how many died??? And Birx says; \"Randomized controlled studies show NO evidence of improved outcome with HCQ.\" LIAR???\nyoutu.be/77TMszubRU4"
        ],
        [
         "47",
         "2274",
         "CallOfDuty",
         "Negative",
         "I’m addicted to call of duty mobile😅"
        ],
        [
         "48",
         "13197",
         "Xbox(Xseries)",
         "Neutral",
         "This could go very well...or horribly wrong."
        ],
        [
         "49",
         "9488",
         "Overwatch",
         "Positive",
         "So yesterday, I decided to go back to Overwatch... and I forgot just how much I loved playing it. Now all I want to do is play it and do nothing else >.< I mean, the event is on atm.. gotta get me that Pharah skin as I have Anas already! 💛"
        ]
       ],
       "shape": {
        "columns": 4,
        "rows": 999
       }
      },
      "text/html": [
       "<div>\n",
       "<style scoped>\n",
       "    .dataframe tbody tr th:only-of-type {\n",
       "        vertical-align: middle;\n",
       "    }\n",
       "\n",
       "    .dataframe tbody tr th {\n",
       "        vertical-align: top;\n",
       "    }\n",
       "\n",
       "    .dataframe thead th {\n",
       "        text-align: right;\n",
       "    }\n",
       "</style>\n",
       "<table border=\"1\" class=\"dataframe\">\n",
       "  <thead>\n",
       "    <tr style=\"text-align: right;\">\n",
       "      <th></th>\n",
       "      <th>Tweet ID</th>\n",
       "      <th>Entity</th>\n",
       "      <th>Sentiment</th>\n",
       "      <th>Tweet content</th>\n",
       "    </tr>\n",
       "  </thead>\n",
       "  <tbody>\n",
       "    <tr>\n",
       "      <th>0</th>\n",
       "      <td>352</td>\n",
       "      <td>Amazon</td>\n",
       "      <td>Neutral</td>\n",
       "      <td>BBC News - Amazon boss Jeff Bezos rejects clai...</td>\n",
       "    </tr>\n",
       "    <tr>\n",
       "      <th>1</th>\n",
       "      <td>8312</td>\n",
       "      <td>Microsoft</td>\n",
       "      <td>Negative</td>\n",
       "      <td>@Microsoft Why do I pay for WORD when it funct...</td>\n",
       "    </tr>\n",
       "    <tr>\n",
       "      <th>2</th>\n",
       "      <td>4371</td>\n",
       "      <td>CS-GO</td>\n",
       "      <td>Negative</td>\n",
       "      <td>CSGO matchmaking is so full of closet hacking,...</td>\n",
       "    </tr>\n",
       "    <tr>\n",
       "      <th>3</th>\n",
       "      <td>4433</td>\n",
       "      <td>Google</td>\n",
       "      <td>Neutral</td>\n",
       "      <td>Now the President is slapping Americans in the...</td>\n",
       "    </tr>\n",
       "    <tr>\n",
       "      <th>4</th>\n",
       "      <td>6273</td>\n",
       "      <td>FIFA</td>\n",
       "      <td>Negative</td>\n",
       "      <td>Hi @EAHelp I’ve had Madeleine McCann in my cel...</td>\n",
       "    </tr>\n",
       "    <tr>\n",
       "      <th>...</th>\n",
       "      <td>...</td>\n",
       "      <td>...</td>\n",
       "      <td>...</td>\n",
       "      <td>...</td>\n",
       "    </tr>\n",
       "    <tr>\n",
       "      <th>994</th>\n",
       "      <td>4891</td>\n",
       "      <td>GrandTheftAuto(GTA)</td>\n",
       "      <td>Irrelevant</td>\n",
       "      <td>⭐️ Toronto is the arts and culture capital of ...</td>\n",
       "    </tr>\n",
       "    <tr>\n",
       "      <th>995</th>\n",
       "      <td>4359</td>\n",
       "      <td>CS-GO</td>\n",
       "      <td>Irrelevant</td>\n",
       "      <td>tHIS IS ACTUALLY A GOOD MOVE TOT BRING MORE VI...</td>\n",
       "    </tr>\n",
       "    <tr>\n",
       "      <th>996</th>\n",
       "      <td>2652</td>\n",
       "      <td>Borderlands</td>\n",
       "      <td>Positive</td>\n",
       "      <td>Today sucked so it’s time to drink wine n play...</td>\n",
       "    </tr>\n",
       "    <tr>\n",
       "      <th>997</th>\n",
       "      <td>8069</td>\n",
       "      <td>Microsoft</td>\n",
       "      <td>Positive</td>\n",
       "      <td>Bought a fraction of Microsoft today. Small wins.</td>\n",
       "    </tr>\n",
       "    <tr>\n",
       "      <th>998</th>\n",
       "      <td>6960</td>\n",
       "      <td>johnson&amp;johnson</td>\n",
       "      <td>Neutral</td>\n",
       "      <td>Johnson &amp; Johnson to stop selling talc baby po...</td>\n",
       "    </tr>\n",
       "  </tbody>\n",
       "</table>\n",
       "<p>999 rows × 4 columns</p>\n",
       "</div>"
      ],
      "text/plain": [
       "     Tweet ID               Entity   Sentiment  \\\n",
       "0         352               Amazon     Neutral   \n",
       "1        8312            Microsoft    Negative   \n",
       "2        4371                CS-GO    Negative   \n",
       "3        4433               Google     Neutral   \n",
       "4        6273                 FIFA    Negative   \n",
       "..        ...                  ...         ...   \n",
       "994      4891  GrandTheftAuto(GTA)  Irrelevant   \n",
       "995      4359                CS-GO  Irrelevant   \n",
       "996      2652          Borderlands    Positive   \n",
       "997      8069            Microsoft    Positive   \n",
       "998      6960      johnson&johnson     Neutral   \n",
       "\n",
       "                                         Tweet content  \n",
       "0    BBC News - Amazon boss Jeff Bezos rejects clai...  \n",
       "1    @Microsoft Why do I pay for WORD when it funct...  \n",
       "2    CSGO matchmaking is so full of closet hacking,...  \n",
       "3    Now the President is slapping Americans in the...  \n",
       "4    Hi @EAHelp I’ve had Madeleine McCann in my cel...  \n",
       "..                                                 ...  \n",
       "994  ⭐️ Toronto is the arts and culture capital of ...  \n",
       "995  tHIS IS ACTUALLY A GOOD MOVE TOT BRING MORE VI...  \n",
       "996  Today sucked so it’s time to drink wine n play...  \n",
       "997  Bought a fraction of Microsoft today. Small wins.  \n",
       "998  Johnson & Johnson to stop selling talc baby po...  \n",
       "\n",
       "[999 rows x 4 columns]"
      ]
     },
     "execution_count": 43,
     "metadata": {},
     "output_type": "execute_result"
    }
   ],
   "source": [
    "df1"
   ]
  },
  {
   "cell_type": "markdown",
   "id": "974757fe",
   "metadata": {},
   "source": [
    "Cleaning out null data from the validation set "
   ]
  },
  {
   "cell_type": "code",
   "execution_count": 44,
   "id": "b33c3234",
   "metadata": {},
   "outputs": [
    {
     "data": {
      "application/vnd.microsoft.datawrangler.viewer.v0+json": {
       "columns": [
        {
         "name": "index",
         "rawType": "object",
         "type": "string"
        },
        {
         "name": "0",
         "rawType": "int64",
         "type": "integer"
        }
       ],
       "ref": "40d5fefd-8cd4-47d2-afac-54d84aed3bf7",
       "rows": [
        [
         "Tweet ID",
         "0"
        ],
        [
         "Entity",
         "0"
        ],
        [
         "Sentiment",
         "0"
        ],
        [
         "Tweet content",
         "0"
        ]
       ],
       "shape": {
        "columns": 1,
        "rows": 4
       }
      },
      "text/plain": [
       "Tweet ID         0\n",
       "Entity           0\n",
       "Sentiment        0\n",
       "Tweet content    0\n",
       "dtype: int64"
      ]
     },
     "execution_count": 44,
     "metadata": {},
     "output_type": "execute_result"
    }
   ],
   "source": [
    "df1.isnull().sum()"
   ]
  },
  {
   "cell_type": "code",
   "execution_count": 45,
   "id": "0af5ad21",
   "metadata": {},
   "outputs": [
    {
     "data": {
      "application/vnd.microsoft.datawrangler.viewer.v0+json": {
       "columns": [
        {
         "name": "index",
         "rawType": "int64",
         "type": "integer"
        },
        {
         "name": "Sentiment",
         "rawType": "bool",
         "type": "boolean"
        }
       ],
       "ref": "8a2761e1-95c3-4084-90fe-e106771c9a12",
       "rows": [
        [
         "0",
         "True"
        ],
        [
         "1",
         "True"
        ],
        [
         "2",
         "True"
        ],
        [
         "3",
         "True"
        ],
        [
         "4",
         "True"
        ],
        [
         "5",
         "True"
        ],
        [
         "6",
         "True"
        ],
        [
         "7",
         "True"
        ],
        [
         "8",
         "True"
        ],
        [
         "9",
         "True"
        ],
        [
         "10",
         "True"
        ],
        [
         "11",
         "True"
        ],
        [
         "12",
         "True"
        ],
        [
         "13",
         "True"
        ],
        [
         "14",
         "True"
        ],
        [
         "15",
         "True"
        ],
        [
         "16",
         "True"
        ],
        [
         "17",
         "True"
        ],
        [
         "18",
         "True"
        ],
        [
         "19",
         "True"
        ],
        [
         "20",
         "True"
        ],
        [
         "21",
         "False"
        ],
        [
         "22",
         "True"
        ],
        [
         "23",
         "True"
        ],
        [
         "24",
         "True"
        ],
        [
         "25",
         "True"
        ],
        [
         "26",
         "False"
        ],
        [
         "27",
         "False"
        ],
        [
         "28",
         "True"
        ],
        [
         "29",
         "True"
        ],
        [
         "30",
         "True"
        ],
        [
         "31",
         "True"
        ],
        [
         "32",
         "True"
        ],
        [
         "33",
         "True"
        ],
        [
         "34",
         "True"
        ],
        [
         "35",
         "True"
        ],
        [
         "36",
         "False"
        ],
        [
         "37",
         "True"
        ],
        [
         "38",
         "True"
        ],
        [
         "39",
         "True"
        ],
        [
         "40",
         "True"
        ],
        [
         "41",
         "True"
        ],
        [
         "42",
         "True"
        ],
        [
         "43",
         "True"
        ],
        [
         "44",
         "True"
        ],
        [
         "45",
         "True"
        ],
        [
         "46",
         "True"
        ],
        [
         "47",
         "True"
        ],
        [
         "48",
         "True"
        ],
        [
         "49",
         "True"
        ]
       ],
       "shape": {
        "columns": 1,
        "rows": 999
       }
      },
      "text/plain": [
       "0       True\n",
       "1       True\n",
       "2       True\n",
       "3       True\n",
       "4       True\n",
       "       ...  \n",
       "994    False\n",
       "995    False\n",
       "996     True\n",
       "997     True\n",
       "998     True\n",
       "Name: Sentiment, Length: 999, dtype: bool"
      ]
     },
     "execution_count": 45,
     "metadata": {},
     "output_type": "execute_result"
    }
   ],
   "source": [
    "w1=df1['Sentiment']!='Irrelevant'\n",
    "w1"
   ]
  },
  {
   "cell_type": "markdown",
   "id": "28ce6ad1",
   "metadata": {},
   "source": [
    "Removing the irrelevant sentiments since they are not apart of what our objective"
   ]
  },
  {
   "cell_type": "code",
   "execution_count": 46,
   "id": "aad99359",
   "metadata": {},
   "outputs": [
    {
     "data": {
      "application/vnd.microsoft.datawrangler.viewer.v0+json": {
       "columns": [
        {
         "name": "index",
         "rawType": "int64",
         "type": "integer"
        },
        {
         "name": "Tweet ID",
         "rawType": "int64",
         "type": "integer"
        },
        {
         "name": "Entity",
         "rawType": "object",
         "type": "string"
        },
        {
         "name": "Sentiment",
         "rawType": "object",
         "type": "string"
        },
        {
         "name": "Tweet content",
         "rawType": "object",
         "type": "string"
        }
       ],
       "ref": "21a7d119-88bf-402c-b6fc-61a0b7dd43cf",
       "rows": [
        [
         "0",
         "352",
         "Amazon",
         "Neutral",
         "BBC News - Amazon boss Jeff Bezos rejects claims company acted like a 'drug dealer' bbc.co.uk/news/av/busine…"
        ],
        [
         "1",
         "8312",
         "Microsoft",
         "Negative",
         "@Microsoft Why do I pay for WORD when it functions so poorly on my @SamsungUS Chromebook? 🙄"
        ],
        [
         "2",
         "4371",
         "CS-GO",
         "Negative",
         "CSGO matchmaking is so full of closet hacking, it's a truly awful game."
        ],
        [
         "3",
         "4433",
         "Google",
         "Neutral",
         "Now the President is slapping Americans in the face that he really did commit an unlawful act after his  acquittal! From Discover on Google vanityfair.com/news/2020/02/t…"
        ],
        [
         "4",
         "6273",
         "FIFA",
         "Negative",
         "Hi @EAHelp I’ve had Madeleine McCann in my cellar for the past 13 years and the little sneaky thing just escaped whilst I was loading up some fifa points, she took my card and I’m having to use my paypal account but it isn’t working, can you help me resolve it please?"
        ],
        [
         "5",
         "7925",
         "MaddenNFL",
         "Positive",
         "Thank you @EAMaddenNFL!! \n\nNew TE Austin Hooper in the ORANGE & BROWN!! \n\n#Browns | @AustinHooper18 \n\n pic.twitter.com/GRg4xzFKOn"
        ],
        [
         "6",
         "11332",
         "TomClancysRainbowSix",
         "Positive",
         "Rocket League, Sea of Thieves or Rainbow Six: Siege🤔? I love playing all three on stream but which is the best? #stream #twitch #RocketLeague #SeaOfThieves #RainbowSixSiege #follow"
        ],
        [
         "7",
         "1107",
         "AssassinsCreed",
         "Positive",
         "my ass still knee-deep in Assassins Creed Odyssey with no way out anytime soon lmao"
        ],
        [
         "8",
         "2069",
         "CallOfDuty",
         "Negative",
         "FIX IT JESUS ! Please FIX IT ! What In the world is going on here.  @PlayStation @AskPlayStation @Playstationsup @Treyarch @CallofDuty negative 345 silver wolf error code pic.twitter.com/ziRyhrf59Q"
        ],
        [
         "9",
         "3185",
         "Dota2",
         "Positive",
         "The professional dota 2 scene is fucking exploding and I completely welcome it.\n\nGet the garbage out."
        ],
        [
         "10",
         "1172",
         "AssassinsCreed",
         "Positive",
         "Itching to assassinate \n\n#TCCGif #AssassinsCreedBlackFlag #AssassinsCreed #TheCapturedCollective pic.twitter.com/vv8MOGtCjw"
        ],
        [
         "11",
         "11783",
         "Verizon",
         "Negative",
         "@FredTJoseph hey fred, Comcast cut the cable and now Verizon stays calling me to shut that too pic.twitter.com/CPWSrmueDg"
        ],
        [
         "12",
         "4286",
         "CS-GO",
         "Neutral",
         "CSGO WIngman (Im Silver dont bully) twitch.tv/lprezh"
        ],
        [
         "13",
         "8431",
         "NBA2K",
         "Negative",
         "@NBA2K game sucks... down by 2 with 38 seconds left and my team intentionally fouls"
        ],
        [
         "14",
         "9135",
         "Nvidia",
         "Positive",
         "Congrats to the NVIDIA NeMo team for the 1.0.0 release candidate!\nReally excited to see NeMo embracing Hydra as the way to take control over the configuration madness that is machine learning! :)"
        ],
        [
         "15",
         "4822",
         "GrandTheftAuto(GTA)",
         "Positive",
         "yeah and it’s fun"
        ],
        [
         "16",
         "3068",
         "Dota2",
         "Negative",
         "fuck my life 😆"
        ],
        [
         "17",
         "10537",
         "RedDeadRedemption(RDR)",
         "Positive",
         "happy birthday red dead redemption that shit changed my life what a crazy experience"
        ],
        [
         "18",
         "8056",
         "Microsoft",
         "Negative",
         "What does that say about Microsoft hardware & software security - The Man gets hacked"
        ],
        [
         "19",
         "2131",
         "CallOfDuty",
         "Negative",
         "The new @CallofDuty for ps5 is 🔥🔥🔥🔥\nOh God 😭😍"
        ],
        [
         "20",
         "5450",
         "Hearthstone",
         "Neutral",
         "Anyone that plays a bad luck albatross deck in hearthstone is a literal cop. \n\nFucking fun police. pic.twitter.com/jY6TRq351e"
        ],
        [
         "22",
         "4038",
         "CS-GO",
         "Negative",
         "Finally played Rainbow Six Siege for the first time... I have to admit, I prefer it over pulling my hair out in CSGO any day."
        ],
        [
         "23",
         "526",
         "ApexLegends",
         "Neutral",
         "Umm @PlayApex  when I died it said Bug This pic.twitter.com/bzMHzbadOF"
        ],
        [
         "24",
         "8977",
         "Nvidia",
         "Neutral",
         "#gtc20 -  nice, motivational, and very accessible Nvidia/AI product fair + related tech talks\nnvidia.com/en-us/gtc/keyn…\ninteresting interaction/social activities: braindates, dinner with strangers, ...  and free attendance for universities: reg.rainfocus.com/flow/nvidia/gt…"
        ],
        [
         "25",
         "11995",
         "Verizon",
         "Negative",
         "Yo! @Verizon just added a $120 'fee' to my account under #COVID19 protection without my permission and I am forced to pay it! Check your bills carefully!"
        ],
        [
         "28",
         "2419",
         "Borderlands",
         "Negative",
         "@Borderlands how do I submit a complaint? Your CEO isn't paying his staff their bonuses."
        ],
        [
         "29",
         "8857",
         "Nvidia",
         "Positive",
         "Watching NVIDIA position itself as not just a leading hardware manufacturer but also providing meaningful software to consumers is a remarkable thing of beauty. What an incredibly lead company with clear focus and goals. Well done @nvidia."
        ],
        [
         "30",
         "9704",
         "PlayStation5(PS5)",
         "Positive",
         "I don’t see how this looks like as Xbox controller but y’all will say anything. Anyway this is fire."
        ],
        [
         "31",
         "7024",
         "johnson&johnson",
         "Negative",
         "Johnson & Johnson, knowingly sold baby powder containing asbestos for decades and are now tasked with producing #COVID19 #vaccine... along with corporate criminals #Glaxosmithkline - who received the 2nd largest fine in corporate history for their various crimes. Trust them? 😳"
        ],
        [
         "32",
         "8842",
         "Nvidia",
         "Positive",
         "The things I would do for a @nvidia 3090... unspeakable! 🧐"
        ],
        [
         "33",
         "6650",
         "Fortnite",
         "Negative",
         "Fortnite is running like ass.. fps drops everywhere wtf?"
        ],
        [
         "34",
         "2337",
         "CallOfDuty",
         "Neutral",
         "Great play dude , what a good optic for the mk2 Carbine too 👌"
        ],
        [
         "35",
         "10589",
         "RedDeadRedemption(RDR)",
         "Neutral",
         "I got the horses in the back #PS4live (Red Dead Redemption 2)  live at youtu.be/9BVKh67OaEI"
        ],
        [
         "37",
         "807",
         "AssassinsCreed",
         "Positive",
         "Just finished Assassins Creed Odyssey through @Shadow_Official @Shadow_NA from the beginning to the end. Thanks for the amazing gaming experience on your service 👏"
        ],
        [
         "38",
         "11229",
         "TomClancysRainbowSix",
         "Neutral",
         "Solo Q and this freak is spinning as fast as he can to lower the FPS. \nI thought they took this bs out\n\n@Rainbow6Game https://t.co/mlvHMu4qeZ"
        ],
        [
         "39",
         "2366",
         "CallOfDuty",
         "Positive",
         "Our eldest has spent so long playing this new Call of Duty game, I’m not convinced he even knows what day it is, let alone how long lockdown has lasted. I’d normally object, but I think I’d rather deal with that, than him being frustrated about being stuck at home."
        ],
        [
         "40",
         "9268",
         "Overwatch",
         "Neutral",
         "//The Corruption and Knocking up of Overwatch Babes is a serious Mood atm... pic.twitter.com/QNy4kmgBLV"
        ],
        [
         "41",
         "2216",
         "CallOfDuty",
         "Neutral",
         "@PlayCODMobile @M2Games2 i love the call of duty, more unfortunately i'm having a lot of audio bug, every time i'm playing the BR mode of the game, the audio just stops, then i have to close it and open dnv the device i'm using is iOS."
        ],
        [
         "42",
         "316",
         "Amazon",
         "Neutral",
         "Amazon stops accepting new online grocery customers as it cuts hours at Whole Foods stores dailymail.co.uk/news/article-8… https://t.co/jn7OMaLq3n"
        ],
        [
         "43",
         "1985",
         "CallOfDutyBlackopsColdWar",
         "Positive",
         "Not gonna lie that Black Ops cold war trailer was probably the best COD teaser I have ever seen"
        ],
        [
         "44",
         "11378",
         "TomClancysRainbowSix",
         "Neutral",
         "MELUSI 4k are you shocked! @Justhoneybadger @simmyster06 @walkerpool @Mdassassin007 @OWahid65 #Rainbowsixsiege pic.twitter.com/0ACuQjtvGL"
        ],
        [
         "45",
         "5207",
         "Hearthstone",
         "Negative",
         "Never popped the ice block #Hearthstone pic.twitter.com/BCsZlhJHPF"
        ],
        [
         "46",
         "7048",
         "johnson&johnson",
         "Negative",
         "You mean the same Johnson & Johnson that suppressed reports of asbestos contamination in their talc products for decades??? Wonder how many died??? And Birx says; \"Randomized controlled studies show NO evidence of improved outcome with HCQ.\" LIAR???\nyoutu.be/77TMszubRU4"
        ],
        [
         "47",
         "2274",
         "CallOfDuty",
         "Negative",
         "I’m addicted to call of duty mobile😅"
        ],
        [
         "48",
         "13197",
         "Xbox(Xseries)",
         "Neutral",
         "This could go very well...or horribly wrong."
        ],
        [
         "49",
         "9488",
         "Overwatch",
         "Positive",
         "So yesterday, I decided to go back to Overwatch... and I forgot just how much I loved playing it. Now all I want to do is play it and do nothing else >.< I mean, the event is on atm.. gotta get me that Pharah skin as I have Anas already! 💛"
        ],
        [
         "50",
         "10275",
         "PlayerUnknownsBattlegrounds(PUBG)",
         "Negative",
         "@PUBG_Support Hiya! So when'll u be fixing your f'n console game? Been asking a lot and have been very satisfied with your lack of responses ☺️ Just wondering if lagouts are a part of the game like red zones and I'm just not aware or if you just can't fix a 2 year + problem. Thx!"
        ],
        [
         "51",
         "6022",
         "FIFA",
         "Negative",
         "More FIFA? Leslie Steiger must be joking! See the horrible thing here ift.tt/2Y1TBtO :///"
        ],
        [
         "52",
         "6379",
         "FIFA",
         "Positive",
         "Thank you \n For wanting me to stay home and play some of FIFA\n\n@EASPORTSFIFA @EAHelp pic.twitter.com/7Vw03AfLay"
        ],
        [
         "53",
         "3293",
         "Facebook",
         "Positive",
         "@BeverlyCitizen Ronald Bellanti is a resident of Beverly, MA and works for Ground Control, an organization he founded as a drunk driving prevention campaign. He took to Facebook to express deplorably racist and violent views. Please help expose him! pic.twitter.com/78RitUkeM2"
        ]
       ],
       "shape": {
        "columns": 4,
        "rows": 828
       }
      },
      "text/html": [
       "<div>\n",
       "<style scoped>\n",
       "    .dataframe tbody tr th:only-of-type {\n",
       "        vertical-align: middle;\n",
       "    }\n",
       "\n",
       "    .dataframe tbody tr th {\n",
       "        vertical-align: top;\n",
       "    }\n",
       "\n",
       "    .dataframe thead th {\n",
       "        text-align: right;\n",
       "    }\n",
       "</style>\n",
       "<table border=\"1\" class=\"dataframe\">\n",
       "  <thead>\n",
       "    <tr style=\"text-align: right;\">\n",
       "      <th></th>\n",
       "      <th>Tweet ID</th>\n",
       "      <th>Entity</th>\n",
       "      <th>Sentiment</th>\n",
       "      <th>Tweet content</th>\n",
       "    </tr>\n",
       "  </thead>\n",
       "  <tbody>\n",
       "    <tr>\n",
       "      <th>0</th>\n",
       "      <td>352</td>\n",
       "      <td>Amazon</td>\n",
       "      <td>Neutral</td>\n",
       "      <td>BBC News - Amazon boss Jeff Bezos rejects clai...</td>\n",
       "    </tr>\n",
       "    <tr>\n",
       "      <th>1</th>\n",
       "      <td>8312</td>\n",
       "      <td>Microsoft</td>\n",
       "      <td>Negative</td>\n",
       "      <td>@Microsoft Why do I pay for WORD when it funct...</td>\n",
       "    </tr>\n",
       "    <tr>\n",
       "      <th>2</th>\n",
       "      <td>4371</td>\n",
       "      <td>CS-GO</td>\n",
       "      <td>Negative</td>\n",
       "      <td>CSGO matchmaking is so full of closet hacking,...</td>\n",
       "    </tr>\n",
       "    <tr>\n",
       "      <th>3</th>\n",
       "      <td>4433</td>\n",
       "      <td>Google</td>\n",
       "      <td>Neutral</td>\n",
       "      <td>Now the President is slapping Americans in the...</td>\n",
       "    </tr>\n",
       "    <tr>\n",
       "      <th>4</th>\n",
       "      <td>6273</td>\n",
       "      <td>FIFA</td>\n",
       "      <td>Negative</td>\n",
       "      <td>Hi @EAHelp I’ve had Madeleine McCann in my cel...</td>\n",
       "    </tr>\n",
       "    <tr>\n",
       "      <th>...</th>\n",
       "      <td>...</td>\n",
       "      <td>...</td>\n",
       "      <td>...</td>\n",
       "      <td>...</td>\n",
       "    </tr>\n",
       "    <tr>\n",
       "      <th>992</th>\n",
       "      <td>314</td>\n",
       "      <td>Amazon</td>\n",
       "      <td>Negative</td>\n",
       "      <td>Please explain how this is possible! How can t...</td>\n",
       "    </tr>\n",
       "    <tr>\n",
       "      <th>993</th>\n",
       "      <td>9701</td>\n",
       "      <td>PlayStation5(PS5)</td>\n",
       "      <td>Positive</td>\n",
       "      <td>Good on Sony. As much as I want to see the new...</td>\n",
       "    </tr>\n",
       "    <tr>\n",
       "      <th>996</th>\n",
       "      <td>2652</td>\n",
       "      <td>Borderlands</td>\n",
       "      <td>Positive</td>\n",
       "      <td>Today sucked so it’s time to drink wine n play...</td>\n",
       "    </tr>\n",
       "    <tr>\n",
       "      <th>997</th>\n",
       "      <td>8069</td>\n",
       "      <td>Microsoft</td>\n",
       "      <td>Positive</td>\n",
       "      <td>Bought a fraction of Microsoft today. Small wins.</td>\n",
       "    </tr>\n",
       "    <tr>\n",
       "      <th>998</th>\n",
       "      <td>6960</td>\n",
       "      <td>johnson&amp;johnson</td>\n",
       "      <td>Neutral</td>\n",
       "      <td>Johnson &amp; Johnson to stop selling talc baby po...</td>\n",
       "    </tr>\n",
       "  </tbody>\n",
       "</table>\n",
       "<p>828 rows × 4 columns</p>\n",
       "</div>"
      ],
      "text/plain": [
       "     Tweet ID             Entity Sentiment  \\\n",
       "0         352             Amazon   Neutral   \n",
       "1        8312          Microsoft  Negative   \n",
       "2        4371              CS-GO  Negative   \n",
       "3        4433             Google   Neutral   \n",
       "4        6273               FIFA  Negative   \n",
       "..        ...                ...       ...   \n",
       "992       314             Amazon  Negative   \n",
       "993      9701  PlayStation5(PS5)  Positive   \n",
       "996      2652        Borderlands  Positive   \n",
       "997      8069          Microsoft  Positive   \n",
       "998      6960    johnson&johnson   Neutral   \n",
       "\n",
       "                                         Tweet content  \n",
       "0    BBC News - Amazon boss Jeff Bezos rejects clai...  \n",
       "1    @Microsoft Why do I pay for WORD when it funct...  \n",
       "2    CSGO matchmaking is so full of closet hacking,...  \n",
       "3    Now the President is slapping Americans in the...  \n",
       "4    Hi @EAHelp I’ve had Madeleine McCann in my cel...  \n",
       "..                                                 ...  \n",
       "992  Please explain how this is possible! How can t...  \n",
       "993  Good on Sony. As much as I want to see the new...  \n",
       "996  Today sucked so it’s time to drink wine n play...  \n",
       "997  Bought a fraction of Microsoft today. Small wins.  \n",
       "998  Johnson & Johnson to stop selling talc baby po...  \n",
       "\n",
       "[828 rows x 4 columns]"
      ]
     },
     "execution_count": 46,
     "metadata": {},
     "output_type": "execute_result"
    }
   ],
   "source": [
    "df1= df1[w1]\n",
    "df1"
   ]
  },
  {
   "cell_type": "code",
   "execution_count": 47,
   "id": "db28dcec",
   "metadata": {},
   "outputs": [
    {
     "data": {
      "text/plain": [
       "<Axes: xlabel='Sentiment', ylabel='count'>"
      ]
     },
     "execution_count": 47,
     "metadata": {},
     "output_type": "execute_result"
    },
    {
     "data": {
      "image/png": "[encoded data removed]",
      "text/plain": [
       "<Figure size 640x480 with 1 Axes>"
      ]
     },
     "metadata": {},
     "output_type": "display_data"
    }
   ],
   "source": [
    "sns.countplot(data=df1, x='Sentiment', hue='Sentiment')"
   ]
  },
  {
   "cell_type": "markdown",
   "id": "2dcdf6fa",
   "metadata": {},
   "source": [
    "I will now check for any blank spaces mistaken for content "
   ]
  },
  {
   "cell_type": "code",
   "execution_count": 48,
   "id": "42203957",
   "metadata": {},
   "outputs": [
    {
     "data": {
      "text/plain": [
       "np.int64(0)"
      ]
     },
     "execution_count": 48,
     "metadata": {},
     "output_type": "execute_result"
    }
   ],
   "source": [
    "df1['Tweet content'].str.isspace().sum()"
   ]
  },
  {
   "cell_type": "markdown",
   "id": "fcb7b941",
   "metadata": {},
   "source": [
    "The validation set is clean and ready for use , hence we save it."
   ]
  },
  {
   "cell_type": "code",
   "execution_count": null,
   "id": "cf82e6be",
   "metadata": {},
   "outputs": [],
   "source": [
    "#df1.to_csv('twitter_validation_clened.csv')"
   ]
  }
 ],
 "metadata": {
  "kernelspec": {
   "display_name": "Python 3",
   "language": "python",
   "name": "python3"
  },
  "language_info": {
   "codemirror_mode": {
    "name": "ipython",
    "version": 3
   },
   "file_extension": ".py",
   "mimetype": "text/x-python",
   "name": "python",
   "nbconvert_exporter": "python",
   "pygments_lexer": "ipython3",
   "version": "3.12.1"
  }
 },
 "nbformat": 4,
 "nbformat_minor": 5
}
